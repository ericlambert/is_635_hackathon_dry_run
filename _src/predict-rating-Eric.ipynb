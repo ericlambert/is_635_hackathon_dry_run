{
 "cells": [
  {
   "cell_type": "markdown",
   "metadata": {},
   "source": [
    "# Imports"
   ]
  },
  {
   "cell_type": "code",
   "execution_count": 31,
   "metadata": {},
   "outputs": [],
   "source": [
    "import pandas as pd\n",
    "from sklearn.model_selection import train_test_split\n",
    "from sklearn.linear_model import LinearRegression,Lasso, Ridge, LassoCV, BayesianRidge\n",
    "import statsmodels.formula.api as sm\n",
    "import matplotlib.pylab as plt\n",
    "\n",
    "from dmba import regressionSummary, exhaustive_search\n",
    "from dmba import backward_elimination, forward_selection, stepwise_selection\n",
    "from dmba import adjusted_r2_score, AIC_score, BIC_score"
   ]
  },
  {
   "cell_type": "markdown",
   "metadata": {},
   "source": [
    "# Read Data"
   ]
  },
  {
   "cell_type": "code",
   "execution_count": 32,
   "metadata": {},
   "outputs": [
    {
     "name": "stdout",
     "output_type": "stream",
     "text": [
      "Index(['name', 'rating', 'genre', 'score', 'votes', 'director', 'writer',\n",
      "       'star', 'country', 'budget', 'gross revenue', 'company', 'runtime',\n",
      "       'gross profit', 'release month', 'release day', 'release year',\n",
      "       'release month num', 'release date', 'release quarter',\n",
      "       'release day of week'],\n",
      "      dtype='object')\n"
     ]
    }
   ],
   "source": [
    "# read data\n",
    "dataFileName = ('../_data/_processed/' + 'processed_for_viz_eric.csv')\n",
    "df = pd.read_csv(dataFileName)\n",
    "print(df.columns)"
   ]
  },
  {
   "cell_type": "markdown",
   "metadata": {},
   "source": [
    "# Train a Linear Regression Model"
   ]
  },
  {
   "cell_type": "code",
   "execution_count": 33,
   "metadata": {},
   "outputs": [
    {
     "name": "stdout",
     "output_type": "stream",
     "text": [
      "Table 6.3\n",
      "intercept  0.6112170204034726\n",
      "           Predictor   coefficient\n",
      "0             budget -8.899069e-10\n",
      "1            runtime  2.242172e-02\n",
      "2    release quarter  3.361121e-03\n",
      "3           rating_G  3.293769e+00\n",
      "4       rating_NC-17  3.723845e+00\n",
      "5   rating_Not Rated  3.538829e+00\n",
      "6          rating_PG  3.001302e+00\n",
      "7       rating_PG-13  3.102022e+00\n",
      "8           rating_R  3.251481e+00\n",
      "9       rating_TV-MA  2.625422e+00\n",
      "10    rating_Unrated  3.361830e+00\n",
      "11          rating_X  6.855627e-14\n",
      "12   genre_Adventure  2.059858e-01\n",
      "13   genre_Animation  9.818527e-01\n",
      "14   genre_Biography  6.227433e-01\n",
      "15      genre_Comedy  1.702764e-01\n",
      "16       genre_Crime  3.356224e-01\n",
      "17       genre_Drama  3.459601e-01\n",
      "18      genre_Family -4.318690e-02\n",
      "19     genre_Fantasy -9.035252e-02\n",
      "20      genre_Horror -1.975791e-01\n",
      "21     genre_Mystery  2.072160e-01\n",
      "22     genre_Romance  6.923182e-01\n",
      "23      genre_Sci-Fi  7.484086e-02\n",
      "24    genre_Thriller -2.193206e-01\n",
      "25     genre_Western -3.668944e-02\n",
      "\n",
      "Regression statistics\n",
      "\n",
      "                      Mean Error (ME) : 0.0000\n",
      "       Root Mean Squared Error (RMSE) : 0.8200\n",
      "            Mean Absolute Error (MAE) : 0.6233\n",
      "          Mean Percentage Error (MPE) : -2.1529\n",
      "Mean Absolute Percentage Error (MAPE) : 10.7840\n"
     ]
    }
   ],
   "source": [
    "# fitting a regression model\n",
    "predictors = [\n",
    "    'rating', 'genre', 'budget', 'runtime', 'release quarter'] #'director', 'writter', 'star', 'company' are other options but they lead to \n",
    "outcome = 'score'\n",
    "testSize = 0.4\n",
    "\n",
    "# partition data\n",
    "X = pd.get_dummies(df[predictors], drop_first=True)\n",
    "y = df[outcome]\n",
    "train_X, valid_X, train_y, valid_y = train_test_split(X, y, test_size=testSize, random_state=1)\n",
    "\n",
    "lm = LinearRegression()\n",
    "lm.fit(train_X, train_y)\n",
    "\n",
    "# print coefficients\n",
    "print('Table 6.3')\n",
    "print('intercept ', lm.intercept_)\n",
    "print(pd.DataFrame({'Predictor': X.columns, 'coefficient': lm.coef_}))\n",
    "\n",
    "# print performance measures (training data)\n",
    "regressionSummary(train_y, lm.predict(train_X))"
   ]
  },
  {
   "cell_type": "markdown",
   "metadata": {},
   "source": [
    "# Make Predictions on Validation Data"
   ]
  },
  {
   "cell_type": "code",
   "execution_count": 34,
   "metadata": {},
   "outputs": [
    {
     "name": "stdout",
     "output_type": "stream",
     "text": [
      "Table 6.4\n",
      "      Predicted  Actual  Residual\n",
      "3973   5.933084     6.1  0.166916\n",
      "2800   6.570837     6.9  0.329163\n",
      "2406   7.504747     7.9  0.395253\n",
      "1379   6.278659     7.1  0.821341\n",
      "2083   8.396076     8.6  0.203924\n",
      "4091   5.776705     7.5  1.723295\n",
      "2374   6.687602     6.8  0.112398\n",
      "2678   5.851636     3.1 -2.751636\n",
      "4477   7.177089     7.5  0.322911\n",
      "1264   6.804905     6.0 -0.804905\n",
      "1922   6.073645     5.6 -0.473645\n",
      "4300   6.833452     6.1 -0.733452\n",
      "3147   6.116566     5.6 -0.516566\n",
      "1959   6.771960     7.1  0.328040\n",
      "169    5.884507     6.0  0.115493\n",
      "3853   6.444081     5.1 -1.344081\n",
      "5268   6.192159     5.8 -0.392159\n",
      "285    6.762647     7.0  0.237353\n",
      "2896   6.143954     5.6 -0.543954\n",
      "2024   6.515159     6.0 -0.515159\n"
     ]
    }
   ],
   "source": [
    "# Use predict() to make predictions on a new set\n",
    "\n",
    "lm_pred = lm.predict(valid_X)\n",
    "result = pd.DataFrame({'Predicted': lm_pred, 'Actual': valid_y, 'Residual': valid_y - lm_pred})\n",
    "\n",
    "print('Table 6.4')\n",
    "print(result.head(20))\n"
   ]
  },
  {
   "cell_type": "markdown",
   "metadata": {},
   "source": [
    "# Evaluate the Performance"
   ]
  },
  {
   "cell_type": "code",
   "execution_count": 35,
   "metadata": {},
   "outputs": [
    {
     "name": "stdout",
     "output_type": "stream",
     "text": [
      "\n",
      "Regression statistics\n",
      "\n",
      "                      Mean Error (ME) : -0.0026\n",
      "       Root Mean Squared Error (RMSE) : 0.8543\n",
      "            Mean Absolute Error (MAE) : 0.6490\n",
      "          Mean Percentage Error (MPE) : -2.3440\n",
      "Mean Absolute Percentage Error (MAPE) : 11.2349\n"
     ]
    }
   ],
   "source": [
    "# print performance measures\n",
    "regressionSummary(valid_y, lm_pred)"
   ]
  },
  {
   "cell_type": "code",
   "execution_count": 36,
   "metadata": {},
   "outputs": [
    {
     "name": "stdout",
     "output_type": "stream",
     "text": [
      "Figure 6.1\n",
      "1.0\n"
     ]
    },
    {
     "data": {
      "image/png": "[encoded data removed]",
      "text/plain": [
       "<Figure size 432x288 with 1 Axes>"
      ]
     },
     "metadata": {
      "needs_background": "light"
     },
     "output_type": "display_data"
    }
   ],
   "source": [
    "# plotting histogram of validation errors\n",
    "bins = 25\n",
    "residual_bound = 1406\n",
    "\n",
    "lm_pred = lm.predict(valid_X)\n",
    "all_residuals = valid_y - lm_pred\n",
    "\n",
    "# Determine the percentage of datapoints with a residual in [-1406, 1406] = approx. 75%\n",
    "print('Figure 6.1')\n",
    "print(len(all_residuals[(all_residuals > -residual_bound) & (all_residuals < residual_bound)]) / len(all_residuals))\n",
    "\n",
    "pd.DataFrame({'Residuals': all_residuals}).hist(bins=bins)\n",
    "plt.show()"
   ]
  },
  {
   "cell_type": "markdown",
   "metadata": {},
   "source": [
    "# Variable Selection"
   ]
  },
  {
   "cell_type": "code",
   "execution_count": 37,
   "metadata": {},
   "outputs": [
    {
     "name": "stdout",
     "output_type": "stream",
     "text": [
      "Variables: budget, runtime, release quarter, rating_G, rating_NC-17, rating_Not Rated, rating_PG, rating_PG-13, rating_R, rating_TV-MA, rating_Unrated, rating_X, genre_Adventure, genre_Animation, genre_Biography, genre_Comedy, genre_Crime, genre_Drama, genre_Family, genre_Fantasy, genre_Horror, genre_Mystery, genre_Romance, genre_Sci-Fi, genre_Thriller, genre_Western\n",
      "Start: score=7974.43\n",
      "Step: score=7972.43, remove rating_X\n",
      "Step: score=7970.44, remove genre_Western\n",
      "Step: score=7968.44, remove genre_Family\n",
      "Step: score=7966.48, remove genre_Sci-Fi\n",
      "Step: score=7964.54, remove release quarter\n",
      "Step: score=7962.82, remove genre_Fantasy\n",
      "Step: score=7961.10, remove genre_Thriller\n",
      "Step: score=7959.68, remove genre_Mystery\n",
      "Step: score=7959.68, remove None\n",
      "Table 6.6\n",
      "['budget', 'runtime', 'rating_G', 'rating_NC-17', 'rating_Not Rated', 'rating_PG', 'rating_PG-13', 'rating_R', 'rating_TV-MA', 'rating_Unrated', 'genre_Adventure', 'genre_Animation', 'genre_Biography', 'genre_Comedy', 'genre_Crime', 'genre_Drama', 'genre_Horror', 'genre_Romance']\n",
      "\n",
      "Regression statistics\n",
      "\n",
      "                      Mean Error (ME) : -0.0023\n",
      "       Root Mean Squared Error (RMSE) : 0.8545\n",
      "            Mean Absolute Error (MAE) : 0.6496\n",
      "          Mean Percentage Error (MPE) : -2.3407\n",
      "Mean Absolute Percentage Error (MAPE) : 11.2424\n"
     ]
    }
   ],
   "source": [
    "# backward elimination (stepwise)\n",
    "\n",
    "def train_model(variables):\n",
    "    model = LinearRegression()\n",
    "    model.fit(train_X[variables], train_y)\n",
    "    return model\n",
    "\n",
    "def score_model(model, variables):\n",
    "    return AIC_score(train_y, model.predict(train_X[variables]), model)\n",
    "\n",
    "allVariables = train_X.columns\n",
    "best_model_be, best_variables_be = backward_elimination(allVariables, train_model, score_model, verbose=True)\n",
    "\n",
    "print('Table 6.6')\n",
    "print(best_variables_be)\n",
    "\n",
    "regressionSummary(valid_y, best_model_be.predict(valid_X[best_variables_be]))"
   ]
  },
  {
   "cell_type": "code",
   "execution_count": 38,
   "metadata": {},
   "outputs": [
    {
     "name": "stdout",
     "output_type": "stream",
     "text": [
      "Table 6.7\n",
      "Variables: budget, runtime, release quarter, rating_G, rating_NC-17, rating_Not Rated, rating_PG, rating_PG-13, rating_R, rating_TV-MA, rating_Unrated, rating_X, genre_Adventure, genre_Animation, genre_Biography, genre_Comedy, genre_Crime, genre_Drama, genre_Family, genre_Fantasy, genre_Horror, genre_Mystery, genre_Romance, genre_Sci-Fi, genre_Thriller, genre_Western\n",
      "Start: score=8875.84, constant\n",
      "Step: score=8278.00, add runtime\n",
      "Step: score=8167.20, add genre_Animation\n",
      "Step: score=8115.73, add genre_Biography\n",
      "Step: score=8072.74, add genre_Drama\n",
      "Step: score=8036.96, add genre_Crime\n",
      "Step: score=8014.13, add rating_R\n",
      "Step: score=7992.00, add genre_Comedy\n",
      "Step: score=7986.36, add genre_Adventure\n",
      "Step: score=7981.45, add rating_PG\n",
      "Step: score=7974.75, add rating_PG-13\n",
      "Step: score=7971.69, add genre_Horror\n",
      "Step: score=7969.92, add budget\n",
      "Step: score=7969.84, add genre_Romance\n",
      "Step: score=7969.84, add None\n",
      "['runtime', 'genre_Animation', 'genre_Biography', 'genre_Drama', 'genre_Crime', 'rating_R', 'genre_Comedy', 'genre_Adventure', 'rating_PG', 'rating_PG-13', 'genre_Horror', 'budget', 'genre_Romance']\n",
      "\n",
      "Regression statistics\n",
      "\n",
      "                      Mean Error (ME) : -0.0029\n",
      "       Root Mean Squared Error (RMSE) : 0.8490\n",
      "            Mean Absolute Error (MAE) : 0.6477\n",
      "          Mean Percentage Error (MPE) : -2.3471\n",
      "Mean Absolute Percentage Error (MAPE) : 11.2182\n"
     ]
    }
   ],
   "source": [
    "# forward selection\n",
    "print('Table 6.7')\n",
    "\n",
    "# the initial model is the constant model - this requires special handling in train_model and score_model\n",
    "def train_model(variables):\n",
    "    if len(variables) == 0:\n",
    "        return None\n",
    "    model = LinearRegression()\n",
    "    model.fit(train_X[variables], train_y)\n",
    "    return model\n",
    "\n",
    "def score_model(model, variables):\n",
    "    if len(variables) == 0:\n",
    "        return AIC_score(train_y, [train_y.mean()] * len(train_y), model, df=1)\n",
    "    return AIC_score(train_y, model.predict(train_X[variables]), model)\n",
    "\n",
    "best_model_fs, best_variables_fs = forward_selection(train_X.columns, train_model, score_model, verbose=True)\n",
    "\n",
    "print(best_variables_fs)\n",
    "\n",
    "regressionSummary(valid_y, best_model_fs.predict(valid_X[best_variables_fs]))"
   ]
  },
  {
   "cell_type": "code",
   "execution_count": 39,
   "metadata": {},
   "outputs": [
    {
     "name": "stdout",
     "output_type": "stream",
     "text": [
      "Table 6.8\n",
      "Variables: budget, runtime, release quarter, rating_G, rating_NC-17, rating_Not Rated, rating_PG, rating_PG-13, rating_R, rating_TV-MA, rating_Unrated, rating_X, genre_Adventure, genre_Animation, genre_Biography, genre_Comedy, genre_Crime, genre_Drama, genre_Family, genre_Fantasy, genre_Horror, genre_Mystery, genre_Romance, genre_Sci-Fi, genre_Thriller, genre_Western\n",
      "Start: score=8875.84, constant\n",
      "Step: score=8278.00, add runtime\n",
      "Step: score=8167.20, add genre_Animation\n",
      "Step: score=8115.73, add genre_Biography\n",
      "Step: score=8072.74, add genre_Drama\n",
      "Step: score=8036.96, add genre_Crime\n",
      "Step: score=8014.13, add rating_R\n",
      "Step: score=7992.00, add genre_Comedy\n",
      "Step: score=7986.36, add genre_Adventure\n",
      "Step: score=7981.45, add rating_PG\n",
      "Step: score=7974.75, add rating_PG-13\n",
      "Step: score=7971.69, add genre_Horror\n",
      "Step: score=7969.92, add budget\n",
      "Step: score=7969.29, remove rating_R\n",
      "Step: score=7968.73, add rating_NC-17\n",
      "Step: score=7968.23, add rating_Not Rated\n",
      "Step: score=7968.11, add genre_Romance\n",
      "Step: score=7968.11, unchanged None\n",
      "['runtime', 'genre_Animation', 'genre_Biography', 'genre_Drama', 'genre_Crime', 'genre_Comedy', 'genre_Adventure', 'rating_PG', 'rating_PG-13', 'genre_Horror', 'budget', 'rating_NC-17', 'rating_Not Rated', 'genre_Romance']\n",
      "\n",
      "Regression statistics\n",
      "\n",
      "                      Mean Error (ME) : -0.0022\n",
      "       Root Mean Squared Error (RMSE) : 0.8495\n",
      "            Mean Absolute Error (MAE) : 0.6480\n",
      "          Mean Percentage Error (MPE) : -2.3350\n",
      "Mean Absolute Percentage Error (MAPE) : 11.2189\n"
     ]
    }
   ],
   "source": [
    "# stepwise regression\n",
    "print('Table 6.8')\n",
    "\n",
    "best_model_stepwise, best_variables_stepwise = stepwise_selection(train_X.columns, train_model, score_model, verbose=True)\n",
    "print(best_variables_stepwise)\n",
    "regressionSummary(valid_y, best_model_stepwise.predict(valid_X[best_variables_stepwise]))"
   ]
  },
  {
   "cell_type": "markdown",
   "metadata": {},
   "source": [
    "# Use the prediction models"
   ]
  },
  {
   "cell_type": "code",
   "execution_count": 47,
   "metadata": {},
   "outputs": [
    {
     "name": "stdout",
     "output_type": "stream",
     "text": [
      "What score do we expect from a new movie with the following features?\n",
      "                       0\n",
      "budget           8000000\n",
      "runtime              180\n",
      "release quarter        4\n",
      "rating_R               1\n",
      "genre_Crime            1\n",
      "\n",
      "score per original model (all predictors): [8.24055586]\n",
      "score per backward elimination: [8.24032312]\n",
      "score per forward selection: [8.24649853]\n",
      "score per stepwise: [8.23459876]\n"
     ]
    }
   ],
   "source": [
    "# create a movie (in this data a movie can't have more than one rating nor more than one genre)\n",
    "newMovie = pd.DataFrame([{\n",
    "    'budget': 8_000_000,\n",
    "    'runtime': 3*60,\n",
    "    'release quarter': 4, # 1-4\n",
    "    'rating_G': 0,\n",
    "    'rating_NC-17': 0,\n",
    "    'rating_Not Rated': 0,\n",
    "    'rating_PG': 0,\n",
    "    'rating_PG-13': 0,\n",
    "    'rating_R': 1,\n",
    "    'rating_TV-MA': 0,\n",
    "    'rating_Unrated': 0,\n",
    "    'rating_X': 0,\n",
    "    'genre_Adventure': 0,\n",
    "    'genre_Animation': 0,\n",
    "    'genre_Biography': 0,\n",
    "    'genre_Comedy': 0,\n",
    "    'genre_Crime': 1,\n",
    "    'genre_Drama': 0,\n",
    "    'genre_Family': 0,\n",
    "    'genre_Fantasy': 0,\n",
    "    'genre_Horror': 0,\n",
    "    'genre_Mystery': 0,\n",
    "    'genre_Romance': 0,\n",
    "    'genre_Sci-Fi': 0,\n",
    "    'genre_Thriller': 0,\n",
    "    'genre_Western': 0\n",
    "}])\n",
    "\n",
    "newMovie_thin = newMovie.loc[:, ~(newMovie == 0).any()]\n",
    "\n",
    "# predict it's score\n",
    "print(f'What score do we expect from a new movie with the following features?\\n{newMovie_thin.T}\\n')\n",
    "print(f'{outcome} per original model (all predictors): {lm.predict(newMovie[X.columns])}')\n",
    "print(f'{outcome} per backward elimination: {best_model_be.predict(newMovie[best_variables_be])}')\n",
    "print(f'{outcome} per forward selection: {best_model_fs.predict(newMovie[best_variables_fs])}')\n",
    "print(f'{outcome} per stepwise: {best_model_stepwise.predict(newMovie[best_variables_stepwise])}')"
   ]
  }
 ],
 "metadata": {
  "interpreter": {
   "hash": "993719309b7497d4ea980752fffbdfc5c91491f5d8efe44ee08128fdc39f9023"
  },
  "kernelspec": {
   "display_name": "Python 3.9.6 64-bit",
   "name": "python3"
  },
  "language_info": {
   "codemirror_mode": {
    "name": "ipython",
    "version": 3
   },
   "file_extension": ".py",
   "mimetype": "text/x-python",
   "name": "python",
   "nbconvert_exporter": "python",
   "pygments_lexer": "ipython3",
   "version": "3.9.6"
  },
  "orig_nbformat": 4
 },
 "nbformat": 4,
 "nbformat_minor": 2
}
