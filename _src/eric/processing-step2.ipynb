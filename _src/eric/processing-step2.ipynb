{
 "cells": [
  {
   "cell_type": "markdown",
   "id": "ac60adae",
   "metadata": {},
   "source": [
    "# Imports"
   ]
  },
  {
   "cell_type": "code",
   "execution_count": 1,
   "id": "8ba3e8e6",
   "metadata": {},
   "outputs": [],
   "source": [
    "import pandas as pd\n",
    "import numpy as np\n",
    "import matplotlib.pyplot as plt\n",
    "import seaborn as sns\n",
    "\n",
    "%matplotlib inline\n",
    "plt.style.use('ggplot')\n"
   ]
  },
  {
   "cell_type": "markdown",
   "id": "92984f7f",
   "metadata": {},
   "source": [
    "# Get data"
   ]
  },
  {
   "cell_type": "code",
   "execution_count": 20,
   "id": "005059cd",
   "metadata": {},
   "outputs": [],
   "source": [
    "# read the dataset as dataframe \n",
    "fileRaw = '../../_data/_raw/movies.csv'\n",
    "fileImputed = '../../_data/_processed/BudgetImputed.csv'\n",
    "file = fileImputed\n",
    "df_raw = pd.read_csv(file)\n",
    "df = df_raw.copy()\n"
   ]
  },
  {
   "cell_type": "markdown",
   "id": "08303618",
   "metadata": {},
   "source": [
    "# Explore the data"
   ]
  },
  {
   "cell_type": "code",
   "execution_count": 21,
   "id": "6fecebe8",
   "metadata": {},
   "outputs": [
    {
     "name": "stdout",
     "output_type": "stream",
     "text": [
      "              year        score         votes        budget         gross  \\\n",
      "count  7404.000000  7404.000000  7.404000e+03  7.404000e+03  7.404000e+03   \n",
      "mean   2000.636683     6.396569  9.082277e+04  3.071911e+07  7.902401e+07   \n",
      "std      11.021332     0.962366  1.654105e+05  3.743236e+07  1.662593e+08   \n",
      "min    1980.000000     1.900000  1.050000e+02 -3.745563e+07  3.090000e+02   \n",
      "25%    1991.000000     5.800000  1.000000e+04  9.000000e+06  4.637415e+06   \n",
      "50%    2001.000000     6.500000  3.400000e+04  1.983027e+07  2.043974e+07   \n",
      "75%    2010.000000     7.100000  9.600000e+04  3.500286e+07  7.647596e+07   \n",
      "max    2020.000000     9.300000  2.400000e+06  3.560000e+08  2.847246e+09   \n",
      "\n",
      "           runtime  \n",
      "count  7404.000000  \n",
      "mean    107.438682  \n",
      "std      18.517094  \n",
      "min      63.000000  \n",
      "25%      95.000000  \n",
      "50%     104.000000  \n",
      "75%     116.000000  \n",
      "max     366.000000  \n"
     ]
    }
   ],
   "source": [
    "print(df.describe())\n"
   ]
  },
  {
   "cell_type": "code",
   "execution_count": 22,
   "id": "2b07abf3",
   "metadata": {},
   "outputs": [
    {
     "data": {
      "text/html": [
       "<div>\n",
       "<style scoped>\n",
       "    .dataframe tbody tr th:only-of-type {\n",
       "        vertical-align: middle;\n",
       "    }\n",
       "\n",
       "    .dataframe tbody tr th {\n",
       "        vertical-align: top;\n",
       "    }\n",
       "\n",
       "    .dataframe thead th {\n",
       "        text-align: right;\n",
       "    }\n",
       "</style>\n",
       "<table border=\"1\" class=\"dataframe\">\n",
       "  <thead>\n",
       "    <tr style=\"text-align: right;\">\n",
       "      <th></th>\n",
       "      <th>name</th>\n",
       "      <th>rating</th>\n",
       "      <th>genre</th>\n",
       "      <th>year</th>\n",
       "      <th>released</th>\n",
       "      <th>score</th>\n",
       "      <th>votes</th>\n",
       "      <th>director</th>\n",
       "      <th>writer</th>\n",
       "      <th>star</th>\n",
       "      <th>country</th>\n",
       "      <th>budget</th>\n",
       "      <th>gross</th>\n",
       "      <th>company</th>\n",
       "      <th>runtime</th>\n",
       "    </tr>\n",
       "  </thead>\n",
       "  <tbody>\n",
       "    <tr>\n",
       "      <th>0</th>\n",
       "      <td>The Shining</td>\n",
       "      <td>R</td>\n",
       "      <td>Drama</td>\n",
       "      <td>1980</td>\n",
       "      <td>June 13, 1980 (United States)</td>\n",
       "      <td>8.4</td>\n",
       "      <td>927000.0</td>\n",
       "      <td>Stanley Kubrick</td>\n",
       "      <td>Stephen King</td>\n",
       "      <td>Jack Nicholson</td>\n",
       "      <td>United Kingdom</td>\n",
       "      <td>19000000.0</td>\n",
       "      <td>46998772.0</td>\n",
       "      <td>Warner Bros.</td>\n",
       "      <td>146.0</td>\n",
       "    </tr>\n",
       "    <tr>\n",
       "      <th>1</th>\n",
       "      <td>The Blue Lagoon</td>\n",
       "      <td>R</td>\n",
       "      <td>Adventure</td>\n",
       "      <td>1980</td>\n",
       "      <td>July 2, 1980 (United States)</td>\n",
       "      <td>5.8</td>\n",
       "      <td>65000.0</td>\n",
       "      <td>Randal Kleiser</td>\n",
       "      <td>Henry De Vere Stacpoole</td>\n",
       "      <td>Brooke Shields</td>\n",
       "      <td>United States</td>\n",
       "      <td>4500000.0</td>\n",
       "      <td>58853106.0</td>\n",
       "      <td>Columbia Pictures</td>\n",
       "      <td>104.0</td>\n",
       "    </tr>\n",
       "    <tr>\n",
       "      <th>2</th>\n",
       "      <td>Star Wars: Episode V - The Empire Strikes Back</td>\n",
       "      <td>PG</td>\n",
       "      <td>Action</td>\n",
       "      <td>1980</td>\n",
       "      <td>June 20, 1980 (United States)</td>\n",
       "      <td>8.7</td>\n",
       "      <td>1200000.0</td>\n",
       "      <td>Irvin Kershner</td>\n",
       "      <td>Leigh Brackett</td>\n",
       "      <td>Mark Hamill</td>\n",
       "      <td>United States</td>\n",
       "      <td>18000000.0</td>\n",
       "      <td>538375067.0</td>\n",
       "      <td>Lucasfilm</td>\n",
       "      <td>124.0</td>\n",
       "    </tr>\n",
       "    <tr>\n",
       "      <th>3</th>\n",
       "      <td>Airplane!</td>\n",
       "      <td>PG</td>\n",
       "      <td>Comedy</td>\n",
       "      <td>1980</td>\n",
       "      <td>July 2, 1980 (United States)</td>\n",
       "      <td>7.7</td>\n",
       "      <td>221000.0</td>\n",
       "      <td>Jim Abrahams</td>\n",
       "      <td>Jim Abrahams</td>\n",
       "      <td>Robert Hays</td>\n",
       "      <td>United States</td>\n",
       "      <td>3500000.0</td>\n",
       "      <td>83453539.0</td>\n",
       "      <td>Paramount Pictures</td>\n",
       "      <td>88.0</td>\n",
       "    </tr>\n",
       "    <tr>\n",
       "      <th>4</th>\n",
       "      <td>Caddyshack</td>\n",
       "      <td>R</td>\n",
       "      <td>Comedy</td>\n",
       "      <td>1980</td>\n",
       "      <td>July 25, 1980 (United States)</td>\n",
       "      <td>7.3</td>\n",
       "      <td>108000.0</td>\n",
       "      <td>Harold Ramis</td>\n",
       "      <td>Brian Doyle-Murray</td>\n",
       "      <td>Chevy Chase</td>\n",
       "      <td>United States</td>\n",
       "      <td>6000000.0</td>\n",
       "      <td>39846344.0</td>\n",
       "      <td>Orion Pictures</td>\n",
       "      <td>98.0</td>\n",
       "    </tr>\n",
       "    <tr>\n",
       "      <th>5</th>\n",
       "      <td>Friday the 13th</td>\n",
       "      <td>R</td>\n",
       "      <td>Horror</td>\n",
       "      <td>1980</td>\n",
       "      <td>May 9, 1980 (United States)</td>\n",
       "      <td>6.4</td>\n",
       "      <td>123000.0</td>\n",
       "      <td>Sean S. Cunningham</td>\n",
       "      <td>Victor Miller</td>\n",
       "      <td>Betsy Palmer</td>\n",
       "      <td>United States</td>\n",
       "      <td>550000.0</td>\n",
       "      <td>39754601.0</td>\n",
       "      <td>Paramount Pictures</td>\n",
       "      <td>95.0</td>\n",
       "    </tr>\n",
       "    <tr>\n",
       "      <th>6</th>\n",
       "      <td>The Blues Brothers</td>\n",
       "      <td>R</td>\n",
       "      <td>Action</td>\n",
       "      <td>1980</td>\n",
       "      <td>June 20, 1980 (United States)</td>\n",
       "      <td>7.9</td>\n",
       "      <td>188000.0</td>\n",
       "      <td>John Landis</td>\n",
       "      <td>Dan Aykroyd</td>\n",
       "      <td>John Belushi</td>\n",
       "      <td>United States</td>\n",
       "      <td>27000000.0</td>\n",
       "      <td>115229890.0</td>\n",
       "      <td>Universal Pictures</td>\n",
       "      <td>133.0</td>\n",
       "    </tr>\n",
       "    <tr>\n",
       "      <th>7</th>\n",
       "      <td>Raging Bull</td>\n",
       "      <td>R</td>\n",
       "      <td>Biography</td>\n",
       "      <td>1980</td>\n",
       "      <td>December 19, 1980 (United States)</td>\n",
       "      <td>8.2</td>\n",
       "      <td>330000.0</td>\n",
       "      <td>Martin Scorsese</td>\n",
       "      <td>Jake LaMotta</td>\n",
       "      <td>Robert De Niro</td>\n",
       "      <td>United States</td>\n",
       "      <td>18000000.0</td>\n",
       "      <td>23402427.0</td>\n",
       "      <td>Chartoff-Winkler Productions</td>\n",
       "      <td>129.0</td>\n",
       "    </tr>\n",
       "    <tr>\n",
       "      <th>8</th>\n",
       "      <td>Superman II</td>\n",
       "      <td>PG</td>\n",
       "      <td>Action</td>\n",
       "      <td>1980</td>\n",
       "      <td>June 19, 1981 (United States)</td>\n",
       "      <td>6.8</td>\n",
       "      <td>101000.0</td>\n",
       "      <td>Richard Lester</td>\n",
       "      <td>Jerry Siegel</td>\n",
       "      <td>Gene Hackman</td>\n",
       "      <td>United States</td>\n",
       "      <td>54000000.0</td>\n",
       "      <td>108185706.0</td>\n",
       "      <td>Dovemead Films</td>\n",
       "      <td>127.0</td>\n",
       "    </tr>\n",
       "    <tr>\n",
       "      <th>9</th>\n",
       "      <td>The Long Riders</td>\n",
       "      <td>R</td>\n",
       "      <td>Biography</td>\n",
       "      <td>1980</td>\n",
       "      <td>May 16, 1980 (United States)</td>\n",
       "      <td>7.0</td>\n",
       "      <td>10000.0</td>\n",
       "      <td>Walter Hill</td>\n",
       "      <td>Bill Bryden</td>\n",
       "      <td>David Carradine</td>\n",
       "      <td>United States</td>\n",
       "      <td>10000000.0</td>\n",
       "      <td>15795189.0</td>\n",
       "      <td>United Artists</td>\n",
       "      <td>100.0</td>\n",
       "    </tr>\n",
       "  </tbody>\n",
       "</table>\n",
       "</div>"
      ],
      "text/plain": [
       "                                             name rating      genre  year  \\\n",
       "0                                     The Shining      R      Drama  1980   \n",
       "1                                 The Blue Lagoon      R  Adventure  1980   \n",
       "2  Star Wars: Episode V - The Empire Strikes Back     PG     Action  1980   \n",
       "3                                       Airplane!     PG     Comedy  1980   \n",
       "4                                      Caddyshack      R     Comedy  1980   \n",
       "5                                 Friday the 13th      R     Horror  1980   \n",
       "6                              The Blues Brothers      R     Action  1980   \n",
       "7                                     Raging Bull      R  Biography  1980   \n",
       "8                                     Superman II     PG     Action  1980   \n",
       "9                                 The Long Riders      R  Biography  1980   \n",
       "\n",
       "                            released  score      votes            director  \\\n",
       "0      June 13, 1980 (United States)    8.4   927000.0     Stanley Kubrick   \n",
       "1       July 2, 1980 (United States)    5.8    65000.0      Randal Kleiser   \n",
       "2      June 20, 1980 (United States)    8.7  1200000.0      Irvin Kershner   \n",
       "3       July 2, 1980 (United States)    7.7   221000.0        Jim Abrahams   \n",
       "4      July 25, 1980 (United States)    7.3   108000.0        Harold Ramis   \n",
       "5        May 9, 1980 (United States)    6.4   123000.0  Sean S. Cunningham   \n",
       "6      June 20, 1980 (United States)    7.9   188000.0         John Landis   \n",
       "7  December 19, 1980 (United States)    8.2   330000.0     Martin Scorsese   \n",
       "8      June 19, 1981 (United States)    6.8   101000.0      Richard Lester   \n",
       "9       May 16, 1980 (United States)    7.0    10000.0         Walter Hill   \n",
       "\n",
       "                    writer             star         country      budget  \\\n",
       "0             Stephen King   Jack Nicholson  United Kingdom  19000000.0   \n",
       "1  Henry De Vere Stacpoole   Brooke Shields   United States   4500000.0   \n",
       "2           Leigh Brackett      Mark Hamill   United States  18000000.0   \n",
       "3             Jim Abrahams      Robert Hays   United States   3500000.0   \n",
       "4       Brian Doyle-Murray      Chevy Chase   United States   6000000.0   \n",
       "5            Victor Miller     Betsy Palmer   United States    550000.0   \n",
       "6              Dan Aykroyd     John Belushi   United States  27000000.0   \n",
       "7             Jake LaMotta   Robert De Niro   United States  18000000.0   \n",
       "8             Jerry Siegel     Gene Hackman   United States  54000000.0   \n",
       "9              Bill Bryden  David Carradine   United States  10000000.0   \n",
       "\n",
       "         gross                       company  runtime  \n",
       "0   46998772.0                  Warner Bros.    146.0  \n",
       "1   58853106.0             Columbia Pictures    104.0  \n",
       "2  538375067.0                     Lucasfilm    124.0  \n",
       "3   83453539.0            Paramount Pictures     88.0  \n",
       "4   39846344.0                Orion Pictures     98.0  \n",
       "5   39754601.0            Paramount Pictures     95.0  \n",
       "6  115229890.0            Universal Pictures    133.0  \n",
       "7   23402427.0  Chartoff-Winkler Productions    129.0  \n",
       "8  108185706.0                Dovemead Films    127.0  \n",
       "9   15795189.0                United Artists    100.0  "
      ]
     },
     "execution_count": 22,
     "metadata": {},
     "output_type": "execute_result"
    }
   ],
   "source": [
    "df.head(10)\n"
   ]
  },
  {
   "cell_type": "markdown",
   "id": "65470190",
   "metadata": {},
   "source": [
    "# Add and Modify Columns"
   ]
  },
  {
   "cell_type": "markdown",
   "id": "656acca1",
   "metadata": {},
   "source": [
    "### Rename 'Gross' to avoid confusion with gross profit"
   ]
  },
  {
   "cell_type": "code",
   "execution_count": 23,
   "id": "0a2fd454",
   "metadata": {},
   "outputs": [],
   "source": [
    "df.rename(columns = {'gross' : 'gross revenue'}, inplace=True)\n"
   ]
  },
  {
   "cell_type": "markdown",
   "id": "0007b42a",
   "metadata": {},
   "source": [
    "### Split 'released' into columns for month, day, year"
   ]
  },
  {
   "cell_type": "code",
   "execution_count": 24,
   "id": "9c0a06f5",
   "metadata": {},
   "outputs": [],
   "source": [
    "# split released\n",
    "df[['release month', 'release day', 'release year', 'other']] = df['released'].str.split(' ', n=3, expand=True)\n",
    "\n",
    "df['release day'] = df['release day'].str.replace(',','') # loose the , in day and make it at int\n",
    "# some of the values in 'released' are not full dates... drop those\n",
    "months = ['June', 'July', 'May', 'December', 'October', 'September',\n",
    "       'February', 'April', 'August', 'March', 'November', 'January']\n",
    "\n",
    "df = df[df['release month'].isin(months)]\n",
    "df = df[df['release day'].astype(int) <= 31]\n",
    "\n",
    "df['release day'] = df['release day'].astype(int)\n",
    "df['release year'] = df['release year'].astype(int)\n"
   ]
  },
  {
   "cell_type": "markdown",
   "id": "73598188",
   "metadata": {},
   "source": [
    "### Add other columns release date related columns"
   ]
  },
  {
   "cell_type": "code",
   "execution_count": 25,
   "id": "f95b604c",
   "metadata": {},
   "outputs": [
    {
     "name": "stdout",
     "output_type": "stream",
     "text": [
      "['Friday' 'Wednesday' 'Tuesday' 'Thursday' 'Saturday' 'Sunday' 'Monday']\n",
      "[13  2 20 25  9 19 16 17 26 12  3  8 15 24  1 10 30 27 11 28 21  6 18 31\n",
      " 14 22  4  5 23 29  7]\n",
      "[1980 1981 1984 1983 1982 1987 1985 1986 1990 1988 1992 1989 1991 1999\n",
      " 1994 1993 1995 2001 1996 2000 1997 1998 2002 2003 2004 2014 2005 2006\n",
      " 2007 2008 2010 2009 2013 2011 2016 2015 2012 2017 2018 2019 2020]\n",
      "    release month num release month  release quarter  count\n",
      "0                   1       January                1    574\n",
      "1                   2      February                1    580\n",
      "2                   3         March                1    660\n",
      "3                   4         April                2    621\n",
      "4                   5           May                2    551\n",
      "5                   6          June                2    544\n",
      "6                   7          July                3    566\n",
      "7                   8        August                3    713\n",
      "8                   9     September                3    631\n",
      "9                  10       October                4    723\n",
      "10                 11      November                4    624\n",
      "11                 12      December                4    570\n"
     ]
    }
   ],
   "source": [
    "# rebuild a valid 'release date' column\n",
    "from time import strptime\n",
    "df['release month num'] = [strptime(str(x), '%B').tm_mon for x in df['release month']]\n",
    "df['release date'] = pd.to_datetime(df['release month num'].astype(str) +'-'+ df['release day'].astype(str) +'-'+ df['release year'].astype(str))\n",
    "\n",
    "# add a 'release quater' column\n",
    "df['release quarter'] = (df['release month num'].astype(int)-1)//3 + 1\n",
    "\n",
    "# add 'release day of week' column\n",
    "df['release day of week'] = df['release date'].dt.day_name()\n",
    "\n",
    "# show that all release date related attributes are valid\n",
    "print(df['release day of week'].unique())\n",
    "print(df['release day'].unique())\n",
    "print(df['release year'].unique())\n",
    "\n",
    "# show that quarter values are correctly mapped to months\n",
    "print(df.groupby(['release month num', 'release month','release quarter']).size().reset_index().rename(columns={0:'count'}))\n"
   ]
  },
  {
   "cell_type": "markdown",
   "id": "9a60a2ed",
   "metadata": {},
   "source": [
    "# Handle Missing Values"
   ]
  },
  {
   "cell_type": "markdown",
   "id": "294a6916",
   "metadata": {},
   "source": [
    "### Find Missing Values"
   ]
  },
  {
   "cell_type": "code",
   "execution_count": 26,
   "id": "5b5ea16f",
   "metadata": {},
   "outputs": [
    {
     "name": "stdout",
     "output_type": "stream",
     "text": [
      "feature - % missing\n",
      "--------------------------------------------------\n",
      "name - 0.00%\n",
      "rating - 0.00%\n",
      "genre - 0.00%\n",
      "year - 0.00%\n",
      "released - 0.00%\n",
      "score - 0.00%\n",
      "votes - 0.00%\n",
      "director - 0.00%\n",
      "writer - 0.00%\n",
      "star - 0.00%\n",
      "country - 0.00%\n",
      "budget - 0.00%\n",
      "gross revenue - 0.00%\n",
      "company - 0.00%\n",
      "runtime - 0.00%\n",
      "release month - 0.00%\n",
      "release day - 0.00%\n",
      "release year - 0.00%\n",
      "other - 0.00%\n",
      "release month num - 0.00%\n",
      "release date - 0.00%\n",
      "release quarter - 0.00%\n",
      "release day of week - 0.00%\n"
     ]
    },
    {
     "data": {
      "image/png": "[encoded data removed]",
      "text/plain": [
       "<Figure size 432x288 with 1 Axes>"
      ]
     },
     "metadata": {},
     "output_type": "display_data"
    }
   ],
   "source": [
    "# Find missing values\n",
    "def list_missing(df):\n",
    "    print('feature - % missing')\n",
    "    print('-'*50)\n",
    "    for col in df.columns:\n",
    "        percent_missing = np.mean(df[col].isnull())\n",
    "        print(f'{col} - {percent_missing*100:.2f}%')\n",
    "    sns.heatmap(df.isnull(), yticklabels=False, cbar=False, cmap='mako')\n",
    "    plt.show()\n",
    "\n",
    "list_missing(df)\n"
   ]
  },
  {
   "cell_type": "markdown",
   "id": "237e8bca",
   "metadata": {},
   "source": [
    "## Imput Missing Budget Values"
   ]
  },
  {
   "cell_type": "code",
   "execution_count": 27,
   "id": "6c6f6414",
   "metadata": {},
   "outputs": [],
   "source": [
    "df_na_budget = df[df['budget'].isna()]\n",
    "df_na_budget.to_csv('../../_data/_processed/' + 'na_budget.csv', index=False)"
   ]
  },
  {
   "cell_type": "code",
   "execution_count": 10,
   "id": "12c2b5e1",
   "metadata": {},
   "outputs": [],
   "source": [
    "# method 0: scrape wikipedia for the actual budget\n",
    "# method 1: define a linear regression model to predict the budget <- Moy working on this\n",
    "# method 2: imput the mean budget based on year and genre\n",
    "# method 3: research the actual budget manually and imput that\n",
    "# method 4: imput the mean or median budget"
   ]
  },
  {
   "cell_type": "markdown",
   "id": "992d27f7",
   "metadata": {},
   "source": [
    "### Method 2 : Imput the average budget for the same genre and release year\n",
    "if that's not available then fallback to same release year\n",
    "\n",
    "if that's not available then fallback again to same genre"
   ]
  },
  {
   "cell_type": "code",
   "execution_count": 28,
   "id": "87c7b811",
   "metadata": {},
   "outputs": [
    {
     "name": "stdout",
     "output_type": "stream",
     "text": [
      "Before Imput\n",
      "feature - % missing\n",
      "--------------------------------------------------\n",
      "name - 0.00%\n",
      "rating - 0.00%\n",
      "genre - 0.00%\n",
      "year - 0.00%\n",
      "released - 0.00%\n",
      "score - 0.00%\n",
      "votes - 0.00%\n",
      "director - 0.00%\n",
      "writer - 0.00%\n",
      "star - 0.00%\n",
      "country - 0.00%\n",
      "budget - 0.00%\n",
      "gross revenue - 0.00%\n",
      "company - 0.00%\n",
      "runtime - 0.00%\n",
      "release month - 0.00%\n",
      "release day - 0.00%\n",
      "release year - 0.00%\n",
      "other - 0.00%\n",
      "release month num - 0.00%\n",
      "release date - 0.00%\n",
      "release quarter - 0.00%\n",
      "release day of week - 0.00%\n"
     ]
    },
    {
     "data": {
      "image/png": "[encoded data removed]",
      "text/plain": [
       "<Figure size 432x288 with 1 Axes>"
      ]
     },
     "metadata": {},
     "output_type": "display_data"
    },
    {
     "name": "stdout",
     "output_type": "stream",
     "text": [
      "After Imput\n",
      "feature - % missing\n",
      "--------------------------------------------------\n",
      "name - 0.00%\n",
      "rating - 0.00%\n",
      "genre - 0.00%\n",
      "year - 0.00%\n",
      "released - 0.00%\n",
      "score - 0.00%\n",
      "votes - 0.00%\n",
      "director - 0.00%\n",
      "writer - 0.00%\n",
      "star - 0.00%\n",
      "country - 0.00%\n",
      "budget - 0.00%\n",
      "gross revenue - 0.00%\n",
      "company - 0.00%\n",
      "runtime - 0.00%\n",
      "release month - 0.00%\n",
      "release day - 0.00%\n",
      "release year - 0.00%\n",
      "other - 0.00%\n",
      "release month num - 0.00%\n",
      "release date - 0.00%\n",
      "release quarter - 0.00%\n",
      "release day of week - 0.00%\n"
     ]
    },
    {
     "data": {
      "image/png": "[encoded data removed]",
      "text/plain": [
       "<Figure size 432x288 with 1 Axes>"
      ]
     },
     "metadata": {},
     "output_type": "display_data"
    }
   ],
   "source": [
    "print('Before Imput')\n",
    "list_missing(df)\n",
    "df['budget'].fillna(df.groupby(['genre','release year'])['budget'].transform('mean'), inplace=True)\n",
    "df['budget'].fillna(df.groupby(['release year'])['budget'].transform('mean'), inplace=True)\n",
    "df['budget'].fillna(df.groupby(['genre'])['budget'].transform('mean'), inplace=True)\n",
    "print('After Imput')\n",
    "list_missing(df)"
   ]
  },
  {
   "cell_type": "markdown",
   "id": "10068cd7",
   "metadata": {},
   "source": [
    "### Last resort is to imput the overall budget mean or median"
   ]
  },
  {
   "cell_type": "markdown",
   "id": "ab041cac",
   "metadata": {},
   "source": [
    "#### Is budget normally distributed?\n"
   ]
  },
  {
   "cell_type": "code",
   "execution_count": 29,
   "id": "4d24428a",
   "metadata": {},
   "outputs": [
    {
     "data": {
      "image/png": "[encoded data removed]",
      "text/plain": [
       "<Figure size 432x288 with 1 Axes>"
      ]
     },
     "metadata": {},
     "output_type": "display_data"
    }
   ],
   "source": [
    "df_missing_budget = df[df['budget'].isna()]\n",
    "df_have_budget = df[df['budget'].notna()]\n",
    "\n",
    "sns.histplot(df_have_budget, x='budget', bins=20)\n",
    "plt.show()"
   ]
  },
  {
   "cell_type": "code",
   "execution_count": 30,
   "id": "d063ed93",
   "metadata": {},
   "outputs": [
    {
     "data": {
      "text/plain": [
       "<seaborn.axisgrid.PairGrid at 0x2206953c4f0>"
      ]
     },
     "execution_count": 30,
     "metadata": {},
     "output_type": "execute_result"
    },
    {
     "data": {
      "image/png": "[encoded data removed]",
      "text/plain": [
       "<Figure size 360x360 with 6 Axes>"
      ]
     },
     "metadata": {},
     "output_type": "display_data"
    }
   ],
   "source": [
    "cols_to_plot = ['release year', 'budget', 'genre']\n",
    "sns.pairplot(df_have_budget[cols_to_plot])\n"
   ]
  },
  {
   "cell_type": "markdown",
   "id": "a168e430",
   "metadata": {},
   "source": [
    "No budgets are not normally distributed therefore we should not imput the overall mean.\n",
    "\n",
    "It also seems clear that budgets rise over time. Maybe imputing the average budget for the release year will work."
   ]
  },
  {
   "cell_type": "code",
   "execution_count": 31,
   "id": "230ad1ab",
   "metadata": {},
   "outputs": [],
   "source": [
    "df['budget'].fillna(df_have_budget['budget'].median(), inplace=True) # only has an impact if na's still exist"
   ]
  },
  {
   "cell_type": "code",
   "execution_count": 32,
   "id": "10bff117",
   "metadata": {},
   "outputs": [
    {
     "name": "stdout",
     "output_type": "stream",
     "text": [
      "feature - % missing\n",
      "--------------------------------------------------\n",
      "name - 0.00%\n",
      "rating - 0.00%\n",
      "genre - 0.00%\n",
      "year - 0.00%\n",
      "released - 0.00%\n",
      "score - 0.00%\n",
      "votes - 0.00%\n",
      "director - 0.00%\n",
      "writer - 0.00%\n",
      "star - 0.00%\n",
      "country - 0.00%\n",
      "budget - 0.00%\n",
      "gross revenue - 0.00%\n",
      "company - 0.00%\n",
      "runtime - 0.00%\n",
      "release month - 0.00%\n",
      "release day - 0.00%\n",
      "release year - 0.00%\n",
      "other - 0.00%\n",
      "release month num - 0.00%\n",
      "release date - 0.00%\n",
      "release quarter - 0.00%\n",
      "release day of week - 0.00%\n"
     ]
    },
    {
     "data": {
      "image/png": "[encoded data removed]",
      "text/plain": [
       "<Figure size 432x288 with 1 Axes>"
      ]
     },
     "metadata": {},
     "output_type": "display_data"
    },
    {
     "data": {
      "text/html": [
       "<div>\n",
       "<style scoped>\n",
       "    .dataframe tbody tr th:only-of-type {\n",
       "        vertical-align: middle;\n",
       "    }\n",
       "\n",
       "    .dataframe tbody tr th {\n",
       "        vertical-align: top;\n",
       "    }\n",
       "\n",
       "    .dataframe thead th {\n",
       "        text-align: right;\n",
       "    }\n",
       "</style>\n",
       "<table border=\"1\" class=\"dataframe\">\n",
       "  <thead>\n",
       "    <tr style=\"text-align: right;\">\n",
       "      <th></th>\n",
       "      <th>year</th>\n",
       "      <th>score</th>\n",
       "      <th>votes</th>\n",
       "      <th>budget</th>\n",
       "      <th>gross revenue</th>\n",
       "      <th>runtime</th>\n",
       "      <th>release day</th>\n",
       "      <th>release year</th>\n",
       "      <th>release month num</th>\n",
       "      <th>release quarter</th>\n",
       "    </tr>\n",
       "  </thead>\n",
       "  <tbody>\n",
       "    <tr>\n",
       "      <th>count</th>\n",
       "      <td>7357.000000</td>\n",
       "      <td>7357.000000</td>\n",
       "      <td>7.357000e+03</td>\n",
       "      <td>7.357000e+03</td>\n",
       "      <td>7.357000e+03</td>\n",
       "      <td>7357.000000</td>\n",
       "      <td>7357.000000</td>\n",
       "      <td>7357.000000</td>\n",
       "      <td>7357.000000</td>\n",
       "      <td>7357.000000</td>\n",
       "    </tr>\n",
       "    <tr>\n",
       "      <th>mean</th>\n",
       "      <td>2000.703684</td>\n",
       "      <td>6.395623</td>\n",
       "      <td>9.135618e+04</td>\n",
       "      <td>3.086005e+07</td>\n",
       "      <td>7.952152e+07</td>\n",
       "      <td>107.455485</td>\n",
       "      <td>16.061166</td>\n",
       "      <td>2000.905124</td>\n",
       "      <td>6.591817</td>\n",
       "      <td>2.534185</td>\n",
       "    </tr>\n",
       "    <tr>\n",
       "      <th>std</th>\n",
       "      <td>11.011734</td>\n",
       "      <td>0.962316</td>\n",
       "      <td>1.658002e+05</td>\n",
       "      <td>3.750481e+07</td>\n",
       "      <td>1.666726e+08</td>\n",
       "      <td>18.549042</td>\n",
       "      <td>8.547953</td>\n",
       "      <td>11.036076</td>\n",
       "      <td>3.435359</td>\n",
       "      <td>1.123955</td>\n",
       "    </tr>\n",
       "    <tr>\n",
       "      <th>min</th>\n",
       "      <td>1980.000000</td>\n",
       "      <td>1.900000</td>\n",
       "      <td>1.050000e+02</td>\n",
       "      <td>-3.745563e+07</td>\n",
       "      <td>3.090000e+02</td>\n",
       "      <td>63.000000</td>\n",
       "      <td>1.000000</td>\n",
       "      <td>1980.000000</td>\n",
       "      <td>1.000000</td>\n",
       "      <td>1.000000</td>\n",
       "    </tr>\n",
       "    <tr>\n",
       "      <th>25%</th>\n",
       "      <td>1991.000000</td>\n",
       "      <td>5.800000</td>\n",
       "      <td>1.000000e+04</td>\n",
       "      <td>9.112710e+06</td>\n",
       "      <td>4.814619e+06</td>\n",
       "      <td>95.000000</td>\n",
       "      <td>9.000000</td>\n",
       "      <td>1992.000000</td>\n",
       "      <td>4.000000</td>\n",
       "      <td>2.000000</td>\n",
       "    </tr>\n",
       "    <tr>\n",
       "      <th>50%</th>\n",
       "      <td>2001.000000</td>\n",
       "      <td>6.500000</td>\n",
       "      <td>3.500000e+04</td>\n",
       "      <td>2.000000e+07</td>\n",
       "      <td>2.090186e+07</td>\n",
       "      <td>104.000000</td>\n",
       "      <td>16.000000</td>\n",
       "      <td>2001.000000</td>\n",
       "      <td>7.000000</td>\n",
       "      <td>3.000000</td>\n",
       "    </tr>\n",
       "    <tr>\n",
       "      <th>75%</th>\n",
       "      <td>2010.000000</td>\n",
       "      <td>7.100000</td>\n",
       "      <td>9.700000e+04</td>\n",
       "      <td>3.591635e+07</td>\n",
       "      <td>7.714239e+07</td>\n",
       "      <td>116.000000</td>\n",
       "      <td>23.000000</td>\n",
       "      <td>2010.000000</td>\n",
       "      <td>10.000000</td>\n",
       "      <td>4.000000</td>\n",
       "    </tr>\n",
       "    <tr>\n",
       "      <th>max</th>\n",
       "      <td>2020.000000</td>\n",
       "      <td>9.300000</td>\n",
       "      <td>2.400000e+06</td>\n",
       "      <td>3.560000e+08</td>\n",
       "      <td>2.847246e+09</td>\n",
       "      <td>366.000000</td>\n",
       "      <td>31.000000</td>\n",
       "      <td>2020.000000</td>\n",
       "      <td>12.000000</td>\n",
       "      <td>4.000000</td>\n",
       "    </tr>\n",
       "  </tbody>\n",
       "</table>\n",
       "</div>"
      ],
      "text/plain": [
       "              year        score         votes        budget  gross revenue  \\\n",
       "count  7357.000000  7357.000000  7.357000e+03  7.357000e+03   7.357000e+03   \n",
       "mean   2000.703684     6.395623  9.135618e+04  3.086005e+07   7.952152e+07   \n",
       "std      11.011734     0.962316  1.658002e+05  3.750481e+07   1.666726e+08   \n",
       "min    1980.000000     1.900000  1.050000e+02 -3.745563e+07   3.090000e+02   \n",
       "25%    1991.000000     5.800000  1.000000e+04  9.112710e+06   4.814619e+06   \n",
       "50%    2001.000000     6.500000  3.500000e+04  2.000000e+07   2.090186e+07   \n",
       "75%    2010.000000     7.100000  9.700000e+04  3.591635e+07   7.714239e+07   \n",
       "max    2020.000000     9.300000  2.400000e+06  3.560000e+08   2.847246e+09   \n",
       "\n",
       "           runtime  release day  release year  release month num  \\\n",
       "count  7357.000000  7357.000000   7357.000000        7357.000000   \n",
       "mean    107.455485    16.061166   2000.905124           6.591817   \n",
       "std      18.549042     8.547953     11.036076           3.435359   \n",
       "min      63.000000     1.000000   1980.000000           1.000000   \n",
       "25%      95.000000     9.000000   1992.000000           4.000000   \n",
       "50%     104.000000    16.000000   2001.000000           7.000000   \n",
       "75%     116.000000    23.000000   2010.000000          10.000000   \n",
       "max     366.000000    31.000000   2020.000000          12.000000   \n",
       "\n",
       "       release quarter  \n",
       "count      7357.000000  \n",
       "mean          2.534185  \n",
       "std           1.123955  \n",
       "min           1.000000  \n",
       "25%           2.000000  \n",
       "50%           3.000000  \n",
       "75%           4.000000  \n",
       "max           4.000000  "
      ]
     },
     "execution_count": 32,
     "metadata": {},
     "output_type": "execute_result"
    }
   ],
   "source": [
    "list_missing(df)\n",
    "df.describe()"
   ]
  },
  {
   "cell_type": "markdown",
   "id": "caec986e",
   "metadata": {},
   "source": [
    "## Drop Remaining Missing Values"
   ]
  },
  {
   "cell_type": "code",
   "execution_count": 33,
   "id": "29f7cf58",
   "metadata": {},
   "outputs": [
    {
     "name": "stdout",
     "output_type": "stream",
     "text": [
      "feature - % missing\n",
      "--------------------------------------------------\n",
      "name - 0.00%\n",
      "rating - 0.00%\n",
      "genre - 0.00%\n",
      "year - 0.00%\n",
      "released - 0.00%\n",
      "score - 0.00%\n",
      "votes - 0.00%\n",
      "director - 0.00%\n",
      "writer - 0.00%\n",
      "star - 0.00%\n",
      "country - 0.00%\n",
      "budget - 0.00%\n",
      "gross revenue - 0.00%\n",
      "company - 0.00%\n",
      "runtime - 0.00%\n",
      "release month - 0.00%\n",
      "release day - 0.00%\n",
      "release year - 0.00%\n",
      "other - 0.00%\n",
      "release month num - 0.00%\n",
      "release date - 0.00%\n",
      "release quarter - 0.00%\n",
      "release day of week - 0.00%\n"
     ]
    },
    {
     "data": {
      "image/png": "[encoded data removed]",
      "text/plain": [
       "<Figure size 432x288 with 1 Axes>"
      ]
     },
     "metadata": {},
     "output_type": "display_data"
    }
   ],
   "source": [
    "# if we couldn't imput missing budget values then drop the column\n",
    "if np.mean(df['budget'].isnull()) > 0:\n",
    "    df = df.drop(columns=['budget'])\n",
    "\n",
    "# Since there is a small % of missing data for the remaining columns, we will drop all rows with any null values\n",
    "df = df.dropna(how='any',axis=0)\n",
    "\n",
    "df.drop_duplicates() #drop duplicate data as well\n",
    "\n",
    "#double check and confirm there is NO null value in the data\n",
    "list_missing(df)"
   ]
  },
  {
   "cell_type": "markdown",
   "id": "4f858f30",
   "metadata": {},
   "source": [
    "Above list and plot should confirm there are no remaining missing values"
   ]
  },
  {
   "cell_type": "markdown",
   "id": "f4f9b147",
   "metadata": {},
   "source": [
    "# Drop Unwanted columns"
   ]
  },
  {
   "cell_type": "code",
   "execution_count": 34,
   "id": "ce130c0b",
   "metadata": {},
   "outputs": [],
   "source": [
    "df.drop(columns=['other', 'released', 'year'], inplace=True) #drop columns we don't need anymore"
   ]
  },
  {
   "cell_type": "markdown",
   "id": "8a70e214",
   "metadata": {},
   "source": [
    "# Output to csv"
   ]
  },
  {
   "cell_type": "code",
   "execution_count": 35,
   "id": "b7bc0fb3",
   "metadata": {},
   "outputs": [
    {
     "name": "stdout",
     "output_type": "stream",
     "text": [
      "Index(['name', 'rating', 'genre', 'score', 'votes', 'director', 'writer',\n",
      "       'star', 'country', 'budget', 'gross revenue', 'company', 'runtime',\n",
      "       'release month', 'release day', 'release year', 'release month num',\n",
      "       'release date', 'release quarter', 'release day of week'],\n",
      "      dtype='object')\n",
      "                                       0                        1\n",
      "name                         The Shining          The Blue Lagoon\n",
      "rating                                 R                        R\n",
      "genre                              Drama                Adventure\n",
      "score                                8.4                      5.8\n",
      "votes                           927000.0                  65000.0\n",
      "director                 Stanley Kubrick           Randal Kleiser\n",
      "writer                      Stephen King  Henry De Vere Stacpoole\n",
      "star                      Jack Nicholson           Brooke Shields\n",
      "country                   United Kingdom            United States\n",
      "budget                        19000000.0                4500000.0\n",
      "gross revenue                 46998772.0               58853106.0\n",
      "company                     Warner Bros.        Columbia Pictures\n",
      "runtime                            146.0                    104.0\n",
      "release month                       June                     July\n",
      "release day                           13                        2\n",
      "release year                        1980                     1980\n",
      "release month num                      6                        7\n",
      "release date         1980-06-13 00:00:00      1980-07-02 00:00:00\n",
      "release quarter                        2                        3\n",
      "release day of week               Friday                Wednesday\n"
     ]
    }
   ],
   "source": [
    "print(df.columns)\n",
    "print(df.head(2).T)\n",
    "\n",
    "df.to_csv('../../_data/_processed/' + 'processed_for_viz.csv', index=False)"
   ]
  }
 ],
 "metadata": {
  "kernelspec": {
   "display_name": "Python 3 (ipykernel)",
   "language": "python",
   "name": "python3"
  },
  "language_info": {
   "codemirror_mode": {
    "name": "ipython",
    "version": 3
   },
   "file_extension": ".py",
   "mimetype": "text/x-python",
   "name": "python",
   "nbconvert_exporter": "python",
   "pygments_lexer": "ipython3",
   "version": "3.9.6"
  }
 },
 "nbformat": 4,
 "nbformat_minor": 5
}
