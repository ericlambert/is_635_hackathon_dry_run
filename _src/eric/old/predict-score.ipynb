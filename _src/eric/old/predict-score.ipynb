{
 "cells": [
  {
   "cell_type": "markdown",
   "metadata": {},
   "source": [
    "# Imports"
   ]
  },
  {
   "cell_type": "code",
   "execution_count": 1,
   "metadata": {},
   "outputs": [],
   "source": [
    "import pandas as pd\n",
    "from sklearn.model_selection import train_test_split\n",
    "from sklearn.linear_model import LinearRegression,Lasso, Ridge, LassoCV, BayesianRidge\n",
    "import statsmodels.formula.api as sm\n",
    "import matplotlib.pyplot as plt\n",
    "import seaborn as sns\n",
    "\n",
    "from dmba import regressionSummary, exhaustive_search\n",
    "from dmba import backward_elimination, forward_selection, stepwise_selection\n",
    "from dmba import adjusted_r2_score, AIC_score, BIC_score"
   ]
  },
  {
   "cell_type": "markdown",
   "metadata": {},
   "source": [
    "# Read Data"
   ]
  },
  {
   "cell_type": "code",
   "execution_count": 2,
   "metadata": {},
   "outputs": [
    {
     "name": "stdout",
     "output_type": "stream",
     "text": [
      "Index(['name', 'rating', 'genre', 'score', 'votes', 'director', 'writer',\n",
      "       'star', 'country', 'budget', 'gross revenue', 'company', 'runtime',\n",
      "       'release month', 'release day', 'release year', 'release month num',\n",
      "       'release date', 'release quarter', 'release day of week', 'title',\n",
      "       'gross profit', 'profit margin', 'profit multiple'],\n",
      "      dtype='object')\n"
     ]
    }
   ],
   "source": [
    "# read data\n",
    "dataFileName = ('../../_data/_processed/' + 'processed_for_viz.csv')\n",
    "df = pd.read_csv(dataFileName)\n",
    "print(df.columns)"
   ]
  },
  {
   "cell_type": "markdown",
   "metadata": {},
   "source": [
    "# Basic Descriptive Statistics"
   ]
  },
  {
   "cell_type": "code",
   "execution_count": 3,
   "metadata": {},
   "outputs": [
    {
     "data": {
      "text/html": [
       "<div>\n",
       "<style scoped>\n",
       "    .dataframe tbody tr th:only-of-type {\n",
       "        vertical-align: middle;\n",
       "    }\n",
       "\n",
       "    .dataframe tbody tr th {\n",
       "        vertical-align: top;\n",
       "    }\n",
       "\n",
       "    .dataframe thead th {\n",
       "        text-align: right;\n",
       "    }\n",
       "</style>\n",
       "<table border=\"1\" class=\"dataframe\">\n",
       "  <thead>\n",
       "    <tr style=\"text-align: right;\">\n",
       "      <th></th>\n",
       "      <th>score</th>\n",
       "      <th>votes</th>\n",
       "      <th>budget</th>\n",
       "      <th>gross revenue</th>\n",
       "      <th>runtime</th>\n",
       "      <th>release day</th>\n",
       "      <th>release year</th>\n",
       "      <th>release month num</th>\n",
       "      <th>release quarter</th>\n",
       "      <th>gross profit</th>\n",
       "      <th>profit margin</th>\n",
       "      <th>profit multiple</th>\n",
       "    </tr>\n",
       "  </thead>\n",
       "  <tbody>\n",
       "    <tr>\n",
       "      <th>count</th>\n",
       "      <td>7169.000000</td>\n",
       "      <td>7.169000e+03</td>\n",
       "      <td>7.169000e+03</td>\n",
       "      <td>7.169000e+03</td>\n",
       "      <td>7169.000000</td>\n",
       "      <td>7169.000000</td>\n",
       "      <td>7169.000000</td>\n",
       "      <td>7169.000000</td>\n",
       "      <td>7169.00000</td>\n",
       "      <td>7.169000e+03</td>\n",
       "      <td>7169.000000</td>\n",
       "      <td>7169.000000</td>\n",
       "    </tr>\n",
       "    <tr>\n",
       "      <th>mean</th>\n",
       "      <td>6.376510</td>\n",
       "      <td>9.289715e+04</td>\n",
       "      <td>3.180830e+07</td>\n",
       "      <td>8.151105e+07</td>\n",
       "      <td>107.783233</td>\n",
       "      <td>16.067094</td>\n",
       "      <td>2000.886037</td>\n",
       "      <td>6.587251</td>\n",
       "      <td>2.53271</td>\n",
       "      <td>4.970275e+07</td>\n",
       "      <td>4.317142</td>\n",
       "      <td>5.317142</td>\n",
       "    </tr>\n",
       "    <tr>\n",
       "      <th>std</th>\n",
       "      <td>0.962503</td>\n",
       "      <td>1.674199e+05</td>\n",
       "      <td>3.751776e+07</td>\n",
       "      <td>1.683817e+08</td>\n",
       "      <td>18.621221</td>\n",
       "      <td>8.543324</td>\n",
       "      <td>11.050197</td>\n",
       "      <td>3.440617</td>\n",
       "      <td>1.12516</td>\n",
       "      <td>1.426387e+08</td>\n",
       "      <td>160.109145</td>\n",
       "      <td>160.109145</td>\n",
       "    </tr>\n",
       "    <tr>\n",
       "      <th>min</th>\n",
       "      <td>1.900000</td>\n",
       "      <td>1.050000e+02</td>\n",
       "      <td>6.000000e+03</td>\n",
       "      <td>3.090000e+02</td>\n",
       "      <td>63.000000</td>\n",
       "      <td>1.000000</td>\n",
       "      <td>1980.000000</td>\n",
       "      <td>1.000000</td>\n",
       "      <td>1.00000</td>\n",
       "      <td>-1.580311e+08</td>\n",
       "      <td>-0.999979</td>\n",
       "      <td>0.000021</td>\n",
       "    </tr>\n",
       "    <tr>\n",
       "      <th>25%</th>\n",
       "      <td>5.800000</td>\n",
       "      <td>1.100000e+04</td>\n",
       "      <td>1.000000e+07</td>\n",
       "      <td>5.410972e+06</td>\n",
       "      <td>95.000000</td>\n",
       "      <td>9.000000</td>\n",
       "      <td>1992.000000</td>\n",
       "      <td>4.000000</td>\n",
       "      <td>2.00000</td>\n",
       "      <td>-7.634502e+06</td>\n",
       "      <td>-0.570101</td>\n",
       "      <td>0.429899</td>\n",
       "    </tr>\n",
       "    <tr>\n",
       "      <th>50%</th>\n",
       "      <td>6.400000</td>\n",
       "      <td>3.600000e+04</td>\n",
       "      <td>2.000000e+07</td>\n",
       "      <td>2.209985e+07</td>\n",
       "      <td>104.000000</td>\n",
       "      <td>16.000000</td>\n",
       "      <td>2001.000000</td>\n",
       "      <td>7.000000</td>\n",
       "      <td>3.00000</td>\n",
       "      <td>4.095658e+06</td>\n",
       "      <td>0.338705</td>\n",
       "      <td>1.338705</td>\n",
       "    </tr>\n",
       "    <tr>\n",
       "      <th>75%</th>\n",
       "      <td>7.000000</td>\n",
       "      <td>9.900000e+04</td>\n",
       "      <td>3.700000e+07</td>\n",
       "      <td>7.981794e+07</td>\n",
       "      <td>117.000000</td>\n",
       "      <td>23.000000</td>\n",
       "      <td>2010.000000</td>\n",
       "      <td>10.000000</td>\n",
       "      <td>4.00000</td>\n",
       "      <td>4.651850e+07</td>\n",
       "      <td>2.077351</td>\n",
       "      <td>3.077351</td>\n",
       "    </tr>\n",
       "    <tr>\n",
       "      <th>max</th>\n",
       "      <td>9.300000</td>\n",
       "      <td>2.400000e+06</td>\n",
       "      <td>3.560000e+08</td>\n",
       "      <td>2.847246e+09</td>\n",
       "      <td>366.000000</td>\n",
       "      <td>31.000000</td>\n",
       "      <td>2020.000000</td>\n",
       "      <td>12.000000</td>\n",
       "      <td>4.00000</td>\n",
       "      <td>2.610246e+09</td>\n",
       "      <td>12889.386667</td>\n",
       "      <td>12890.386667</td>\n",
       "    </tr>\n",
       "  </tbody>\n",
       "</table>\n",
       "</div>"
      ],
      "text/plain": [
       "             score         votes        budget  gross revenue      runtime  \\\n",
       "count  7169.000000  7.169000e+03  7.169000e+03   7.169000e+03  7169.000000   \n",
       "mean      6.376510  9.289715e+04  3.180830e+07   8.151105e+07   107.783233   \n",
       "std       0.962503  1.674199e+05  3.751776e+07   1.683817e+08    18.621221   \n",
       "min       1.900000  1.050000e+02  6.000000e+03   3.090000e+02    63.000000   \n",
       "25%       5.800000  1.100000e+04  1.000000e+07   5.410972e+06    95.000000   \n",
       "50%       6.400000  3.600000e+04  2.000000e+07   2.209985e+07   104.000000   \n",
       "75%       7.000000  9.900000e+04  3.700000e+07   7.981794e+07   117.000000   \n",
       "max       9.300000  2.400000e+06  3.560000e+08   2.847246e+09   366.000000   \n",
       "\n",
       "       release day  release year  release month num  release quarter  \\\n",
       "count  7169.000000   7169.000000        7169.000000       7169.00000   \n",
       "mean     16.067094   2000.886037           6.587251          2.53271   \n",
       "std       8.543324     11.050197           3.440617          1.12516   \n",
       "min       1.000000   1980.000000           1.000000          1.00000   \n",
       "25%       9.000000   1992.000000           4.000000          2.00000   \n",
       "50%      16.000000   2001.000000           7.000000          3.00000   \n",
       "75%      23.000000   2010.000000          10.000000          4.00000   \n",
       "max      31.000000   2020.000000          12.000000          4.00000   \n",
       "\n",
       "       gross profit  profit margin  profit multiple  \n",
       "count  7.169000e+03    7169.000000      7169.000000  \n",
       "mean   4.970275e+07       4.317142         5.317142  \n",
       "std    1.426387e+08     160.109145       160.109145  \n",
       "min   -1.580311e+08      -0.999979         0.000021  \n",
       "25%   -7.634502e+06      -0.570101         0.429899  \n",
       "50%    4.095658e+06       0.338705         1.338705  \n",
       "75%    4.651850e+07       2.077351         3.077351  \n",
       "max    2.610246e+09   12889.386667     12890.386667  "
      ]
     },
     "execution_count": 3,
     "metadata": {},
     "output_type": "execute_result"
    }
   ],
   "source": [
    "df.describe()"
   ]
  },
  {
   "cell_type": "markdown",
   "metadata": {},
   "source": [
    "# Train a Linear Regression Model"
   ]
  },
  {
   "cell_type": "code",
   "execution_count": 4,
   "metadata": {},
   "outputs": [],
   "source": [
    "# define model variables\n",
    "predictors = ['rating', 'genre', 'runtime', 'release quarter'] #'director', 'writter', 'star', 'company' are other options but they lead to\n",
    "outcome = 'score'\n",
    "normalize = True # normalize=true does not seem to impact the performance on this dataset\n",
    "testSize = 0.3"
   ]
  },
  {
   "cell_type": "code",
   "execution_count": 5,
   "metadata": {},
   "outputs": [],
   "source": [
    "# partition data\n",
    "X = pd.get_dummies(df[predictors], drop_first=True)\n",
    "y = df[outcome]\n",
    "train_X, valid_X, train_y, valid_y = train_test_split(X, y, test_size=testSize, random_state=1)"
   ]
  },
  {
   "cell_type": "code",
   "execution_count": 6,
   "metadata": {},
   "outputs": [
    {
     "name": "stdout",
     "output_type": "stream",
     "text": [
      "Table 6.3\n",
      "intercept  3.8080638136742677\n",
      "           Predictor  coefficient\n",
      "0            runtime     0.020004\n",
      "1    release quarter     0.017976\n",
      "2       rating_NC-17     0.080276\n",
      "3   rating_Not Rated     0.241123\n",
      "4          rating_PG    -0.027375\n",
      "5       rating_PG-13     0.060987\n",
      "6           rating_R     0.226826\n",
      "7       rating_TV-MA     0.525613\n",
      "8     rating_Unrated     0.104041\n",
      "9           rating_X     0.109716\n",
      "10   genre_Adventure     0.236504\n",
      "11   genre_Animation     1.127168\n",
      "12   genre_Biography     0.651073\n",
      "13      genre_Comedy     0.176896\n",
      "14       genre_Crime     0.375508\n",
      "15       genre_Drama     0.356189\n",
      "16      genre_Family     0.616568\n",
      "17     genre_Fantasy     0.116699\n",
      "18      genre_Horror    -0.192628\n",
      "19     genre_Mystery     0.405033\n",
      "20     genre_Romance     0.329679\n",
      "21      genre_Sci-Fi     0.683245\n",
      "22    genre_Thriller     0.187120\n",
      "23     genre_Western    -0.266451\n",
      "\n",
      "Regression statistics\n",
      "\n",
      "                      Mean Error (ME) : -0.0000\n",
      "       Root Mean Squared Error (RMSE) : 0.8412\n",
      "            Mean Absolute Error (MAE) : 0.6428\n",
      "          Mean Percentage Error (MPE) : -2.2659\n",
      "Mean Absolute Percentage Error (MAPE) : 11.1485\n"
     ]
    }
   ],
   "source": [
    "# fitting a regression model\n",
    "lm = LinearRegression(normalize=normalize) \n",
    "lm.fit(train_X, train_y)\n",
    "\n",
    "# print coefficients\n",
    "print('Table 6.3')\n",
    "print('intercept ', lm.intercept_)\n",
    "print(pd.DataFrame({'Predictor': X.columns, 'coefficient': lm.coef_}))\n",
    "\n",
    "# print performance measures (training data)\n",
    "regressionSummary(train_y, lm.predict(train_X))"
   ]
  },
  {
   "cell_type": "markdown",
   "metadata": {},
   "source": [
    "# Make Predictions on Validation Data"
   ]
  },
  {
   "cell_type": "code",
   "execution_count": 7,
   "metadata": {},
   "outputs": [
    {
     "name": "stdout",
     "output_type": "stream",
     "text": [
      "Table 6.4\n",
      "      Predicted  Actual  Residual\n",
      "4332   6.319528     7.0  0.680472\n",
      "1117   6.351244     6.5  0.148756\n",
      "4492   6.782106     5.7 -1.082106\n",
      "7107   6.026024     6.3  0.273976\n",
      "1475   6.408723     6.3 -0.108723\n",
      "6908   5.893190     6.7  0.806810\n",
      "462    5.811148     5.8 -0.011148\n",
      "6392   6.449414     7.1  0.650586\n",
      "5083   6.322626     5.8 -0.522626\n",
      "2684   6.440287     6.1 -0.340287\n",
      "3709   6.246063     7.0  0.753937\n",
      "1558   6.727772     7.6  0.872228\n",
      "1651   7.444851     7.5  0.055149\n",
      "299    5.618986     5.7  0.081014\n",
      "447    6.035005     4.7 -1.335005\n",
      "325    5.910058     6.4  0.489942\n",
      "4286   6.728175     6.2 -0.528175\n",
      "6842   6.268094     7.0  0.731906\n",
      "1877   6.418257     5.8 -0.618257\n",
      "758    6.245324     5.9 -0.345324\n"
     ]
    }
   ],
   "source": [
    "# Use predict() to make predictions on a new set\n",
    "\n",
    "lm_pred = lm.predict(valid_X)\n",
    "result = pd.DataFrame({'Predicted': lm_pred, 'Actual': valid_y, 'Residual': valid_y - lm_pred})\n",
    "\n",
    "print('Table 6.4')\n",
    "print(result.head(20))\n"
   ]
  },
  {
   "cell_type": "markdown",
   "metadata": {},
   "source": [
    "# Evaluate the Performance"
   ]
  },
  {
   "cell_type": "code",
   "execution_count": 8,
   "metadata": {},
   "outputs": [
    {
     "name": "stdout",
     "output_type": "stream",
     "text": [
      "\n",
      "Regression statistics\n",
      "\n",
      "                      Mean Error (ME) : -0.0270\n",
      "       Root Mean Squared Error (RMSE) : 0.8213\n",
      "            Mean Absolute Error (MAE) : 0.6311\n",
      "          Mean Percentage Error (MPE) : -2.5705\n",
      "Mean Absolute Percentage Error (MAPE) : 10.9149\n"
     ]
    }
   ],
   "source": [
    "# print performance measures\n",
    "regressionSummary(valid_y, lm_pred)"
   ]
  },
  {
   "cell_type": "code",
   "execution_count": 9,
   "metadata": {},
   "outputs": [
    {
     "name": "stdout",
     "output_type": "stream",
     "text": [
      "0.7777777777777778\n"
     ]
    },
    {
     "data": {
      "image/png": "[encoded data removed]",
      "text/plain": [
       "<Figure size 432x288 with 1 Axes>"
      ]
     },
     "metadata": {
      "needs_background": "light"
     },
     "output_type": "display_data"
    }
   ],
   "source": [
    "def residual_hist(model, valid_X, valid_y, bins, bounds):\n",
    "    # plotting histogram of validation errors\n",
    "    residual_bound = bounds\n",
    "\n",
    "    predicted = model.predict(valid_X)\n",
    "    all_residuals = valid_y - predicted\n",
    "\n",
    "    # Determine the percentage of datapoints with a residual in [-.95, .95] = approx. 75%\n",
    "    print(len(all_residuals[(all_residuals > -residual_bound) & (all_residuals < residual_bound)]) / len(all_residuals))\n",
    "\n",
    "    pd.DataFrame({'Residuals': all_residuals}).hist(bins=bins)\n",
    "    plt.show()\n",
    "\n",
    "# plotting histogram of validation errors\n",
    "residual_hist(lm, valid_X, valid_y, 25, .95)"
   ]
  },
  {
   "cell_type": "markdown",
   "metadata": {},
   "source": [
    "# Variable Selection"
   ]
  },
  {
   "cell_type": "code",
   "execution_count": 10,
   "metadata": {},
   "outputs": [
    {
     "name": "stdout",
     "output_type": "stream",
     "text": [
      "Variables: runtime, release quarter, rating_NC-17, rating_Not Rated, rating_PG, rating_PG-13, rating_R, rating_TV-MA, rating_Unrated, rating_X, genre_Adventure, genre_Animation, genre_Biography, genre_Comedy, genre_Crime, genre_Drama, genre_Family, genre_Fantasy, genre_Horror, genre_Mystery, genre_Romance, genre_Sci-Fi, genre_Thriller, genre_Western\n",
      "Start: score=12557.17\n",
      "Step: score=12555.20, remove rating_X\n",
      "Step: score=12553.31, remove rating_PG\n",
      "Step: score=12551.54, remove rating_NC-17\n",
      "Step: score=12549.84, remove genre_Western\n",
      "Step: score=12548.19, remove genre_Thriller\n",
      "Step: score=12546.69, remove genre_Fantasy\n",
      "Step: score=12545.30, remove rating_Unrated\n",
      "Step: score=12544.33, remove genre_Romance\n",
      "Step: score=12543.90, remove genre_Family\n",
      "Step: score=12543.55, remove rating_TV-MA\n",
      "Step: score=12543.55, remove None\n",
      "Table 6.6\n",
      "['runtime', 'release quarter', 'rating_Not Rated', 'rating_PG-13', 'rating_R', 'genre_Adventure', 'genre_Animation', 'genre_Biography', 'genre_Comedy', 'genre_Crime', 'genre_Drama', 'genre_Horror', 'genre_Mystery', 'genre_Sci-Fi']\n",
      "\n",
      "Regression statistics\n",
      "\n",
      "                      Mean Error (ME) : -0.0274\n",
      "       Root Mean Squared Error (RMSE) : 0.8219\n",
      "            Mean Absolute Error (MAE) : 0.6320\n",
      "          Mean Percentage Error (MPE) : -2.5790\n",
      "Mean Absolute Percentage Error (MAPE) : 10.9304\n"
     ]
    }
   ],
   "source": [
    "# backward elimination (stepwise)\n",
    "\n",
    "def train_model(variables):\n",
    "    model = LinearRegression(normalize=normalize) # normalize=true does not seem to impact the performance on this dataset\n",
    "    model.fit(train_X[variables], train_y)\n",
    "    return model\n",
    "\n",
    "def score_model(model, variables):\n",
    "    return AIC_score(train_y, model.predict(train_X[variables]), model)\n",
    "\n",
    "allVariables = train_X.columns\n",
    "best_model_be, best_variables_be = backward_elimination(allVariables, train_model, score_model, verbose=True)\n",
    "\n",
    "print('Table 6.6')\n",
    "print(best_variables_be)\n",
    "\n",
    "regressionSummary(valid_y, best_model_be.predict(valid_X[best_variables_be]))\n"
   ]
  },
  {
   "cell_type": "code",
   "execution_count": 11,
   "metadata": {},
   "outputs": [
    {
     "name": "stdout",
     "output_type": "stream",
     "text": [
      "Table 6.7\n",
      "Variables: runtime, release quarter, rating_NC-17, rating_Not Rated, rating_PG, rating_PG-13, rating_R, rating_TV-MA, rating_Unrated, rating_X, genre_Adventure, genre_Animation, genre_Biography, genre_Comedy, genre_Crime, genre_Drama, genre_Family, genre_Fantasy, genre_Horror, genre_Mystery, genre_Romance, genre_Sci-Fi, genre_Thriller, genre_Western\n",
      "Start: score=13907.10, constant\n",
      "Step: score=13000.42, add runtime\n",
      "Step: score=12811.85, add genre_Animation\n",
      "Step: score=12739.30, add genre_Biography\n",
      "Step: score=12682.81, add genre_Drama\n",
      "Step: score=12630.86, add genre_Crime\n",
      "Step: score=12597.08, add rating_R\n",
      "Step: score=12574.75, add genre_Comedy\n",
      "Step: score=12558.91, add genre_Adventure\n",
      "Step: score=12551.81, add genre_Horror\n",
      "Step: score=12547.23, add rating_Not Rated\n",
      "Step: score=12544.42, add rating_PG\n",
      "Step: score=12543.58, add release quarter\n",
      "Step: score=12543.02, add genre_Sci-Fi\n",
      "Step: score=12542.58, add genre_Mystery\n",
      "Step: score=12542.58, add None\n",
      "['runtime', 'genre_Animation', 'genre_Biography', 'genre_Drama', 'genre_Crime', 'rating_R', 'genre_Comedy', 'genre_Adventure', 'genre_Horror', 'rating_Not Rated', 'rating_PG', 'release quarter', 'genre_Sci-Fi', 'genre_Mystery']\n",
      "\n",
      "Regression statistics\n",
      "\n",
      "                      Mean Error (ME) : -0.0268\n",
      "       Root Mean Squared Error (RMSE) : 0.8211\n",
      "            Mean Absolute Error (MAE) : 0.6313\n",
      "          Mean Percentage Error (MPE) : -2.5681\n",
      "Mean Absolute Percentage Error (MAPE) : 10.9175\n"
     ]
    }
   ],
   "source": [
    "# forward selection\n",
    "print('Table 6.7')\n",
    "\n",
    "# the initial model is the constant model - this requires special handling in train_model and score_model\n",
    "def train_model(variables):\n",
    "    if len(variables) == 0:\n",
    "        return None\n",
    "    model = LinearRegression(normalize=normalize) # normalize=true does not seem to impact the performance on this dataset\n",
    "    model.fit(train_X[variables], train_y)\n",
    "    return model\n",
    "\n",
    "def score_model(model, variables):\n",
    "    if len(variables) == 0:\n",
    "        return AIC_score(train_y, [train_y.mean()] * len(train_y), model, df=1)\n",
    "    return AIC_score(train_y, model.predict(train_X[variables]), model)\n",
    "\n",
    "best_model_fs, best_variables_fs = forward_selection(train_X.columns, train_model, score_model, verbose=True)\n",
    "\n",
    "print(best_variables_fs)\n",
    "\n",
    "regressionSummary(valid_y, best_model_fs.predict(valid_X[best_variables_fs]))\n"
   ]
  },
  {
   "cell_type": "code",
   "execution_count": 12,
   "metadata": {},
   "outputs": [
    {
     "name": "stdout",
     "output_type": "stream",
     "text": [
      "Table 6.8\n",
      "Variables: runtime, release quarter, rating_NC-17, rating_Not Rated, rating_PG, rating_PG-13, rating_R, rating_TV-MA, rating_Unrated, rating_X, genre_Adventure, genre_Animation, genre_Biography, genre_Comedy, genre_Crime, genre_Drama, genre_Family, genre_Fantasy, genre_Horror, genre_Mystery, genre_Romance, genre_Sci-Fi, genre_Thriller, genre_Western\n",
      "Start: score=13907.10, constant\n",
      "Step: score=13000.42, add runtime\n",
      "Step: score=12811.85, add genre_Animation\n",
      "Step: score=12739.30, add genre_Biography\n",
      "Step: score=12682.81, add genre_Drama\n",
      "Step: score=12630.86, add genre_Crime\n",
      "Step: score=12597.08, add rating_R\n",
      "Step: score=12574.75, add genre_Comedy\n",
      "Step: score=12558.91, add genre_Adventure\n",
      "Step: score=12551.81, add genre_Horror\n",
      "Step: score=12547.23, add rating_Not Rated\n",
      "Step: score=12544.42, add rating_PG\n",
      "Step: score=12543.58, add release quarter\n",
      "Step: score=12543.02, add genre_Sci-Fi\n",
      "Step: score=12542.58, add genre_Mystery\n",
      "Step: score=12542.58, unchanged None\n",
      "['runtime', 'genre_Animation', 'genre_Biography', 'genre_Drama', 'genre_Crime', 'rating_R', 'genre_Comedy', 'genre_Adventure', 'genre_Horror', 'rating_Not Rated', 'rating_PG', 'release quarter', 'genre_Sci-Fi', 'genre_Mystery']\n",
      "\n",
      "Regression statistics\n",
      "\n",
      "                      Mean Error (ME) : -0.0268\n",
      "       Root Mean Squared Error (RMSE) : 0.8211\n",
      "            Mean Absolute Error (MAE) : 0.6313\n",
      "          Mean Percentage Error (MPE) : -2.5681\n",
      "Mean Absolute Percentage Error (MAPE) : 10.9175\n"
     ]
    }
   ],
   "source": [
    "# stepwise regression\n",
    "print('Table 6.8')\n",
    "\n",
    "best_model_stepwise, best_variables_stepwise = stepwise_selection(train_X.columns, train_model, score_model, verbose=True) \n",
    "print(best_variables_stepwise)\n",
    "regressionSummary(valid_y, best_model_stepwise.predict(valid_X[best_variables_stepwise]))"
   ]
  },
  {
   "cell_type": "markdown",
   "metadata": {},
   "source": [
    "# Use the prediction models"
   ]
  },
  {
   "cell_type": "code",
   "execution_count": 13,
   "metadata": {},
   "outputs": [
    {
     "name": "stdout",
     "output_type": "stream",
     "text": [
      "What score do we expect from a new movie with the following features?\n",
      "                   0\n",
      "runtime          180\n",
      "release quarter    2\n",
      "rating_R           1\n",
      "genre_Horror       1\n",
      "\n",
      "score per original model (all predictors): [7.47884824]\n",
      "score per backward elimination: [7.47756228]\n",
      "score per forward selection: [7.47897251]\n",
      "score per stepwise: [7.47897251]\n"
     ]
    }
   ],
   "source": [
    "# create a movie (in this data a movie can't have more than one rating nor more than one genre)\n",
    "newMovie = pd.DataFrame([{\n",
    "    'runtime': 3*60,\n",
    "    'release quarter': 2, # 1-4\n",
    "    'rating_G': 0,\n",
    "    'rating_NC-17': 0,\n",
    "    'rating_Not Rated': 0,\n",
    "    'rating_PG': 0,\n",
    "    'rating_PG-13': 0,\n",
    "    'rating_R': 1,\n",
    "    'rating_TV-MA': 0,\n",
    "    'rating_Unrated': 0,\n",
    "    'rating_X': 0,\n",
    "    'rating_TV-14': 0, \n",
    "    'rating_TV-PG': 0, \n",
    "    'genre_Adventure': 0,\n",
    "    'genre_Animation': 0,\n",
    "    'genre_Biography': 0,\n",
    "    'genre_Comedy': 0,\n",
    "    'genre_Crime': 0,\n",
    "    'genre_Drama': 0,\n",
    "    'genre_Family': 0,\n",
    "    'genre_Fantasy': 0,\n",
    "    'genre_Horror': 1,\n",
    "    'genre_Mystery': 0,\n",
    "    'genre_Romance': 0,\n",
    "    'genre_Sci-Fi': 0,\n",
    "    'genre_Thriller': 0,\n",
    "    'genre_Western': 0,\n",
    "    'genre_Music': 0,\n",
    "    'genre_Musical': 0,\n",
    "    'genre_Sport':0\n",
    "}])\n",
    "\n",
    "newMovie_thin = newMovie.loc[:, ~(newMovie == 0).any()]\n",
    "\n",
    "# predict it's score\n",
    "print(f'What score do we expect from a new movie with the following features?\\n{newMovie_thin.T}\\n')\n",
    "print(f'{outcome} per original model (all predictors): {lm.predict(newMovie[X.columns])}')\n",
    "print(f'{outcome} per backward elimination: {best_model_be.predict(newMovie[best_variables_be])}')\n",
    "print(f'{outcome} per forward selection: {best_model_fs.predict(newMovie[best_variables_fs])}')\n",
    "print(f'{outcome} per stepwise: {best_model_stepwise.predict(newMovie[best_variables_stepwise])}')"
   ]
  }
 ],
 "metadata": {
  "interpreter": {
   "hash": "993719309b7497d4ea980752fffbdfc5c91491f5d8efe44ee08128fdc39f9023"
  },
  "kernelspec": {
   "display_name": "Python 3.9.6 64-bit",
   "name": "python3"
  },
  "language_info": {
   "codemirror_mode": {
    "name": "ipython",
    "version": 3
   },
   "file_extension": ".py",
   "mimetype": "text/x-python",
   "name": "python",
   "nbconvert_exporter": "python",
   "pygments_lexer": "ipython3",
   "version": "3.9.6"
  },
  "orig_nbformat": 4
 },
 "nbformat": 4,
 "nbformat_minor": 2
}
