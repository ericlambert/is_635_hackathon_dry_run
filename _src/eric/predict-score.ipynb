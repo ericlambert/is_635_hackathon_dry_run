{
 "cells": [
  {
   "cell_type": "markdown",
   "metadata": {},
   "source": [
    "# Imports"
   ]
  },
  {
   "cell_type": "code",
   "execution_count": 1,
   "metadata": {},
   "outputs": [],
   "source": [
    "import pandas as pd\n",
    "from sklearn.model_selection import train_test_split\n",
    "from sklearn.linear_model import LinearRegression,Lasso, Ridge, LassoCV, BayesianRidge\n",
    "import statsmodels.formula.api as sm\n",
    "import matplotlib.pyplot as plt\n",
    "import seaborn as sns\n",
    "\n",
    "from dmba import regressionSummary, exhaustive_search\n",
    "from dmba import backward_elimination, forward_selection, stepwise_selection\n",
    "from dmba import adjusted_r2_score, AIC_score, BIC_score"
   ]
  },
  {
   "cell_type": "markdown",
   "metadata": {},
   "source": [
    "# Read Data"
   ]
  },
  {
   "cell_type": "code",
   "execution_count": 2,
   "metadata": {},
   "outputs": [
    {
     "name": "stdout",
     "output_type": "stream",
     "text": [
      "Index(['name', 'rating', 'genre', 'score', 'votes', 'director', 'writer',\n",
      "       'star', 'country', 'budget', 'gross revenue', 'company', 'runtime',\n",
      "       'release month', 'release day', 'release year', 'release month num',\n",
      "       'release date', 'release quarter', 'release day of week'],\n",
      "      dtype='object')\n"
     ]
    }
   ],
   "source": [
    "# read data\n",
    "dataFileName = ('../../_data/_processed/' + 'processed_for_viz.csv')\n",
    "df = pd.read_csv(dataFileName)\n",
    "print(df.columns)"
   ]
  },
  {
   "cell_type": "markdown",
   "metadata": {},
   "source": [
    "# Basic Descriptive Statistics"
   ]
  },
  {
   "cell_type": "code",
   "execution_count": 3,
   "metadata": {},
   "outputs": [
    {
     "data": {
      "text/html": [
       "<div>\n",
       "<style scoped>\n",
       "    .dataframe tbody tr th:only-of-type {\n",
       "        vertical-align: middle;\n",
       "    }\n",
       "\n",
       "    .dataframe tbody tr th {\n",
       "        vertical-align: top;\n",
       "    }\n",
       "\n",
       "    .dataframe thead th {\n",
       "        text-align: right;\n",
       "    }\n",
       "</style>\n",
       "<table border=\"1\" class=\"dataframe\">\n",
       "  <thead>\n",
       "    <tr style=\"text-align: right;\">\n",
       "      <th></th>\n",
       "      <th>score</th>\n",
       "      <th>votes</th>\n",
       "      <th>budget</th>\n",
       "      <th>gross revenue</th>\n",
       "      <th>runtime</th>\n",
       "      <th>release day</th>\n",
       "      <th>release year</th>\n",
       "      <th>release month num</th>\n",
       "      <th>release quarter</th>\n",
       "    </tr>\n",
       "  </thead>\n",
       "  <tbody>\n",
       "    <tr>\n",
       "      <th>count</th>\n",
       "      <td>7357.000000</td>\n",
       "      <td>7.357000e+03</td>\n",
       "      <td>7.357000e+03</td>\n",
       "      <td>7.357000e+03</td>\n",
       "      <td>7357.000000</td>\n",
       "      <td>7357.000000</td>\n",
       "      <td>7357.000000</td>\n",
       "      <td>7357.000000</td>\n",
       "      <td>7357.000000</td>\n",
       "    </tr>\n",
       "    <tr>\n",
       "      <th>mean</th>\n",
       "      <td>6.395623</td>\n",
       "      <td>9.135618e+04</td>\n",
       "      <td>3.086005e+07</td>\n",
       "      <td>7.952152e+07</td>\n",
       "      <td>107.455485</td>\n",
       "      <td>16.061166</td>\n",
       "      <td>2000.905124</td>\n",
       "      <td>6.591817</td>\n",
       "      <td>2.534185</td>\n",
       "    </tr>\n",
       "    <tr>\n",
       "      <th>std</th>\n",
       "      <td>0.962316</td>\n",
       "      <td>1.658002e+05</td>\n",
       "      <td>3.750481e+07</td>\n",
       "      <td>1.666726e+08</td>\n",
       "      <td>18.549042</td>\n",
       "      <td>8.547953</td>\n",
       "      <td>11.036076</td>\n",
       "      <td>3.435359</td>\n",
       "      <td>1.123955</td>\n",
       "    </tr>\n",
       "    <tr>\n",
       "      <th>min</th>\n",
       "      <td>1.900000</td>\n",
       "      <td>1.050000e+02</td>\n",
       "      <td>-3.745563e+07</td>\n",
       "      <td>3.090000e+02</td>\n",
       "      <td>63.000000</td>\n",
       "      <td>1.000000</td>\n",
       "      <td>1980.000000</td>\n",
       "      <td>1.000000</td>\n",
       "      <td>1.000000</td>\n",
       "    </tr>\n",
       "    <tr>\n",
       "      <th>25%</th>\n",
       "      <td>5.800000</td>\n",
       "      <td>1.000000e+04</td>\n",
       "      <td>9.112710e+06</td>\n",
       "      <td>4.814619e+06</td>\n",
       "      <td>95.000000</td>\n",
       "      <td>9.000000</td>\n",
       "      <td>1992.000000</td>\n",
       "      <td>4.000000</td>\n",
       "      <td>2.000000</td>\n",
       "    </tr>\n",
       "    <tr>\n",
       "      <th>50%</th>\n",
       "      <td>6.500000</td>\n",
       "      <td>3.500000e+04</td>\n",
       "      <td>2.000000e+07</td>\n",
       "      <td>2.090186e+07</td>\n",
       "      <td>104.000000</td>\n",
       "      <td>16.000000</td>\n",
       "      <td>2001.000000</td>\n",
       "      <td>7.000000</td>\n",
       "      <td>3.000000</td>\n",
       "    </tr>\n",
       "    <tr>\n",
       "      <th>75%</th>\n",
       "      <td>7.100000</td>\n",
       "      <td>9.700000e+04</td>\n",
       "      <td>3.591635e+07</td>\n",
       "      <td>7.714239e+07</td>\n",
       "      <td>116.000000</td>\n",
       "      <td>23.000000</td>\n",
       "      <td>2010.000000</td>\n",
       "      <td>10.000000</td>\n",
       "      <td>4.000000</td>\n",
       "    </tr>\n",
       "    <tr>\n",
       "      <th>max</th>\n",
       "      <td>9.300000</td>\n",
       "      <td>2.400000e+06</td>\n",
       "      <td>3.560000e+08</td>\n",
       "      <td>2.847246e+09</td>\n",
       "      <td>366.000000</td>\n",
       "      <td>31.000000</td>\n",
       "      <td>2020.000000</td>\n",
       "      <td>12.000000</td>\n",
       "      <td>4.000000</td>\n",
       "    </tr>\n",
       "  </tbody>\n",
       "</table>\n",
       "</div>"
      ],
      "text/plain": [
       "             score         votes        budget  gross revenue      runtime  \\\n",
       "count  7357.000000  7.357000e+03  7.357000e+03   7.357000e+03  7357.000000   \n",
       "mean      6.395623  9.135618e+04  3.086005e+07   7.952152e+07   107.455485   \n",
       "std       0.962316  1.658002e+05  3.750481e+07   1.666726e+08    18.549042   \n",
       "min       1.900000  1.050000e+02 -3.745563e+07   3.090000e+02    63.000000   \n",
       "25%       5.800000  1.000000e+04  9.112710e+06   4.814619e+06    95.000000   \n",
       "50%       6.500000  3.500000e+04  2.000000e+07   2.090186e+07   104.000000   \n",
       "75%       7.100000  9.700000e+04  3.591635e+07   7.714239e+07   116.000000   \n",
       "max       9.300000  2.400000e+06  3.560000e+08   2.847246e+09   366.000000   \n",
       "\n",
       "       release day  release year  release month num  release quarter  \n",
       "count  7357.000000   7357.000000        7357.000000      7357.000000  \n",
       "mean     16.061166   2000.905124           6.591817         2.534185  \n",
       "std       8.547953     11.036076           3.435359         1.123955  \n",
       "min       1.000000   1980.000000           1.000000         1.000000  \n",
       "25%       9.000000   1992.000000           4.000000         2.000000  \n",
       "50%      16.000000   2001.000000           7.000000         3.000000  \n",
       "75%      23.000000   2010.000000          10.000000         4.000000  \n",
       "max      31.000000   2020.000000          12.000000         4.000000  "
      ]
     },
     "execution_count": 3,
     "metadata": {},
     "output_type": "execute_result"
    }
   ],
   "source": [
    "df.describe()"
   ]
  },
  {
   "cell_type": "markdown",
   "metadata": {},
   "source": [
    "# Train a Linear Regression Model"
   ]
  },
  {
   "cell_type": "code",
   "execution_count": 4,
   "metadata": {},
   "outputs": [],
   "source": [
    "# define model variables\n",
    "predictors = ['rating', 'genre', 'runtime', 'release quarter'] #'director', 'writter', 'star', 'company' are other options but they lead to\n",
    "outcome = 'score'\n",
    "normalize = False # normalize=true does not seem to impact the performance on this dataset\n",
    "testSize = 0.4"
   ]
  },
  {
   "cell_type": "code",
   "execution_count": 5,
   "metadata": {},
   "outputs": [],
   "source": [
    "# partition data\n",
    "X = pd.get_dummies(df[predictors], drop_first=True)\n",
    "y = df[outcome]\n",
    "train_X, valid_X, train_y, valid_y = train_test_split(X, y, test_size=testSize, random_state=1)"
   ]
  },
  {
   "cell_type": "code",
   "execution_count": 6,
   "metadata": {},
   "outputs": [
    {
     "name": "stdout",
     "output_type": "stream",
     "text": [
      "Table 6.3\n",
      "intercept  4.109662996704563\n",
      "           Predictor  coefficient\n",
      "0            runtime     0.017960\n",
      "1    release quarter     0.011949\n",
      "2       rating_NC-17    -0.015135\n",
      "3   rating_Not Rated     0.311644\n",
      "4          rating_PG    -0.106298\n",
      "5       rating_PG-13    -0.033722\n",
      "6           rating_R     0.163869\n",
      "7       rating_TV-MA     0.274410\n",
      "8     rating_Unrated     0.302812\n",
      "9           rating_X     0.823563\n",
      "10   genre_Adventure     0.250532\n",
      "11   genre_Animation     1.045688\n",
      "12   genre_Biography     0.717254\n",
      "13      genre_Comedy     0.178275\n",
      "14       genre_Crime     0.415871\n",
      "15       genre_Drama     0.415869\n",
      "16      genre_Family     0.568617\n",
      "17     genre_Fantasy     0.112400\n",
      "18      genre_Horror    -0.197174\n",
      "19     genre_Mystery     0.385336\n",
      "20     genre_Romance     0.446748\n",
      "21      genre_Sci-Fi     0.291884\n",
      "22    genre_Thriller     0.264952\n",
      "23     genre_Western    -0.288788\n",
      "\n",
      "Regression statistics\n",
      "\n",
      "                      Mean Error (ME) : -0.0000\n",
      "       Root Mean Squared Error (RMSE) : 0.8368\n",
      "            Mean Absolute Error (MAE) : 0.6405\n",
      "          Mean Percentage Error (MPE) : -2.2307\n",
      "Mean Absolute Percentage Error (MAPE) : 11.0675\n"
     ]
    }
   ],
   "source": [
    "# fitting a regression model\n",
    "lm = LinearRegression(normalize=normalize) \n",
    "lm.fit(train_X, train_y)\n",
    "\n",
    "# print coefficients\n",
    "print('Table 6.3')\n",
    "print('intercept ', lm.intercept_)\n",
    "print(pd.DataFrame({'Predictor': X.columns, 'coefficient': lm.coef_}))\n",
    "\n",
    "# print performance measures (training data)\n",
    "regressionSummary(train_y, lm.predict(train_X))"
   ]
  },
  {
   "cell_type": "markdown",
   "metadata": {},
   "source": [
    "# Make Predictions on Validation Data"
   ]
  },
  {
   "cell_type": "code",
   "execution_count": 7,
   "metadata": {},
   "outputs": [
    {
     "name": "stdout",
     "output_type": "stream",
     "text": [
      "Table 6.4\n",
      "      Predicted  Actual  Residual\n",
      "2164   5.962058     6.2  0.237942\n",
      "1233   6.656093     7.8  1.143907\n",
      "2495   6.169930     5.4 -0.769930\n",
      "5534   5.851822     6.6  0.748178\n",
      "2702   6.515283     7.1  0.584717\n",
      "5668   6.676922     6.1 -0.576922\n",
      "4995   6.350778     6.2 -0.150778\n",
      "634    6.335686     5.4 -0.935686\n",
      "1165   6.099413     6.5  0.400587\n",
      "6344   6.271643     6.6  0.328357\n",
      "3059   7.107954     7.7  0.592046\n",
      "4146   6.391385     6.4  0.008615\n",
      "1373   7.077938     8.8  1.722062\n",
      "5996   6.175868     5.4 -0.775868\n",
      "2565   6.272966     7.3  1.027034\n",
      "4579   6.374714     6.1 -0.274714\n",
      "6052   6.634956     7.7  1.065044\n",
      "6204   6.002247     5.8 -0.202247\n",
      "7023   6.266086     7.1  0.833914\n",
      "2545   6.169930     5.0 -1.169930\n"
     ]
    }
   ],
   "source": [
    "# Use predict() to make predictions on a new set\n",
    "\n",
    "lm_pred = lm.predict(valid_X)\n",
    "result = pd.DataFrame({'Predicted': lm_pred, 'Actual': valid_y, 'Residual': valid_y - lm_pred})\n",
    "\n",
    "print('Table 6.4')\n",
    "print(result.head(20))\n"
   ]
  },
  {
   "cell_type": "markdown",
   "metadata": {},
   "source": [
    "# Evaluate the Performance"
   ]
  },
  {
   "cell_type": "code",
   "execution_count": 8,
   "metadata": {},
   "outputs": [
    {
     "name": "stdout",
     "output_type": "stream",
     "text": [
      "\n",
      "Regression statistics\n",
      "\n",
      "                      Mean Error (ME) : -0.0017\n",
      "       Root Mean Squared Error (RMSE) : 0.8461\n",
      "            Mean Absolute Error (MAE) : 0.6516\n",
      "          Mean Percentage Error (MPE) : -2.2903\n",
      "Mean Absolute Percentage Error (MAPE) : 11.2133\n"
     ]
    }
   ],
   "source": [
    "# print performance measures\n",
    "regressionSummary(valid_y, lm_pred)"
   ]
  },
  {
   "cell_type": "code",
   "execution_count": 9,
   "metadata": {},
   "outputs": [
    {
     "name": "stdout",
     "output_type": "stream",
     "text": [
      "Figure 6.1\n",
      "0.764525993883792\n"
     ]
    },
    {
     "data": {
      "image/png": "[encoded data removed]",
      "text/plain": [
       "<Figure size 432x288 with 1 Axes>"
      ]
     },
     "metadata": {
      "needs_background": "light"
     },
     "output_type": "display_data"
    }
   ],
   "source": [
    "# plotting histogram of validation errors\n",
    "bins = 25\n",
    "residual_bound = .95\n",
    "\n",
    "lm_pred = lm.predict(valid_X)\n",
    "all_residuals = valid_y - lm_pred\n",
    "\n",
    "# Determine the percentage of datapoints with a residual in [-.95, .95] = approx. 75%\n",
    "print('Figure 6.1')\n",
    "print(len(all_residuals[(all_residuals > -residual_bound) & (all_residuals < residual_bound)]) / len(all_residuals))\n",
    "\n",
    "pd.DataFrame({'Residuals': all_residuals}).hist(bins=bins)\n",
    "plt.show()"
   ]
  },
  {
   "cell_type": "markdown",
   "metadata": {},
   "source": [
    "# Variable Selection"
   ]
  },
  {
   "cell_type": "code",
   "execution_count": 10,
   "metadata": {},
   "outputs": [
    {
     "name": "stdout",
     "output_type": "stream",
     "text": [
      "Variables: runtime, release quarter, rating_NC-17, rating_Not Rated, rating_PG, rating_PG-13, rating_R, rating_TV-MA, rating_Unrated, rating_X, genre_Adventure, genre_Animation, genre_Biography, genre_Comedy, genre_Crime, genre_Drama, genre_Family, genre_Fantasy, genre_Horror, genre_Mystery, genre_Romance, genre_Sci-Fi, genre_Thriller, genre_Western\n",
      "Start: score=11005.40\n",
      "Step: score=11003.41, remove rating_NC-17\n",
      "Step: score=11001.52, remove rating_PG-13\n",
      "Step: score=10999.72, remove genre_Thriller\n",
      "Step: score=10998.07, remove genre_Western\n",
      "Step: score=10996.43, remove genre_Sci-Fi\n",
      "Step: score=10994.87, remove genre_Fantasy\n",
      "Step: score=10993.65, remove rating_TV-MA\n",
      "Step: score=10992.69, remove rating_X\n",
      "Step: score=10991.83, remove release quarter\n",
      "Step: score=10991.62, remove genre_Mystery\n",
      "Step: score=10991.56, remove genre_Romance\n",
      "Step: score=10991.56, remove None\n",
      "Table 6.6\n",
      "['runtime', 'rating_Not Rated', 'rating_PG', 'rating_R', 'rating_Unrated', 'genre_Adventure', 'genre_Animation', 'genre_Biography', 'genre_Comedy', 'genre_Crime', 'genre_Drama', 'genre_Family', 'genre_Horror']\n",
      "\n",
      "Regression statistics\n",
      "\n",
      "                      Mean Error (ME) : -0.0005\n",
      "       Root Mean Squared Error (RMSE) : 0.8465\n",
      "            Mean Absolute Error (MAE) : 0.6522\n",
      "          Mean Percentage Error (MPE) : -2.2710\n",
      "Mean Absolute Percentage Error (MAPE) : 11.2224\n"
     ]
    }
   ],
   "source": [
    "# backward elimination (stepwise)\n",
    "\n",
    "def train_model(variables):\n",
    "    model = LinearRegression(normalize=normalize) # normalize=true does not seem to impact the performance on this dataset\n",
    "    model.fit(train_X[variables], train_y)\n",
    "    return model\n",
    "\n",
    "def score_model(model, variables):\n",
    "    return AIC_score(train_y, model.predict(train_X[variables]), model)\n",
    "\n",
    "allVariables = train_X.columns\n",
    "best_model_be, best_variables_be = backward_elimination(allVariables, train_model, score_model, verbose=True)\n",
    "\n",
    "print('Table 6.6')\n",
    "print(best_variables_be)\n",
    "\n",
    "regressionSummary(valid_y, best_model_be.predict(valid_X[best_variables_be]))"
   ]
  },
  {
   "cell_type": "code",
   "execution_count": 11,
   "metadata": {},
   "outputs": [
    {
     "name": "stdout",
     "output_type": "stream",
     "text": [
      "Table 6.7\n",
      "Variables: runtime, release quarter, rating_NC-17, rating_Not Rated, rating_PG, rating_PG-13, rating_R, rating_TV-MA, rating_Unrated, rating_X, genre_Adventure, genre_Animation, genre_Biography, genre_Comedy, genre_Crime, genre_Drama, genre_Family, genre_Fantasy, genre_Horror, genre_Mystery, genre_Romance, genre_Sci-Fi, genre_Thriller, genre_Western\n",
      "Start: score=12171.39, constant\n",
      "Step: score=11453.20, add runtime\n",
      "Step: score=11314.30, add genre_Animation\n",
      "Step: score=11237.60, add genre_Biography\n",
      "Step: score=11155.35, add genre_Drama\n",
      "Step: score=11090.29, add genre_Crime\n",
      "Step: score=11061.63, add rating_R\n",
      "Step: score=11041.08, add rating_Not Rated\n",
      "Step: score=11019.37, add genre_Horror\n",
      "Step: score=11009.28, add genre_Comedy\n",
      "Step: score=10997.52, add genre_Adventure\n",
      "Step: score=10994.99, add rating_Unrated\n",
      "Step: score=10993.34, add genre_Family\n",
      "Step: score=10991.56, add rating_PG\n",
      "Step: score=10991.56, add None\n",
      "['runtime', 'genre_Animation', 'genre_Biography', 'genre_Drama', 'genre_Crime', 'rating_R', 'rating_Not Rated', 'genre_Horror', 'genre_Comedy', 'genre_Adventure', 'rating_Unrated', 'genre_Family', 'rating_PG']\n",
      "\n",
      "Regression statistics\n",
      "\n",
      "                      Mean Error (ME) : -0.0005\n",
      "       Root Mean Squared Error (RMSE) : 0.8465\n",
      "            Mean Absolute Error (MAE) : 0.6522\n",
      "          Mean Percentage Error (MPE) : -2.2710\n",
      "Mean Absolute Percentage Error (MAPE) : 11.2224\n"
     ]
    }
   ],
   "source": [
    "# forward selection\n",
    "print('Table 6.7')\n",
    "\n",
    "# the initial model is the constant model - this requires special handling in train_model and score_model\n",
    "def train_model(variables):\n",
    "    if len(variables) == 0:\n",
    "        return None\n",
    "    model = LinearRegression(normalize=normalize) # normalize=true does not seem to impact the performance on this dataset\n",
    "    model.fit(train_X[variables], train_y)\n",
    "    return model\n",
    "\n",
    "def score_model(model, variables):\n",
    "    if len(variables) == 0:\n",
    "        return AIC_score(train_y, [train_y.mean()] * len(train_y), model, df=1)\n",
    "    return AIC_score(train_y, model.predict(train_X[variables]), model)\n",
    "\n",
    "best_model_fs, best_variables_fs = forward_selection(train_X.columns, train_model, score_model, verbose=True)\n",
    "\n",
    "print(best_variables_fs)\n",
    "\n",
    "regressionSummary(valid_y, best_model_fs.predict(valid_X[best_variables_fs]))"
   ]
  },
  {
   "cell_type": "code",
   "execution_count": 12,
   "metadata": {},
   "outputs": [
    {
     "name": "stdout",
     "output_type": "stream",
     "text": [
      "Table 6.8\n",
      "Variables: runtime, release quarter, rating_NC-17, rating_Not Rated, rating_PG, rating_PG-13, rating_R, rating_TV-MA, rating_Unrated, rating_X, genre_Adventure, genre_Animation, genre_Biography, genre_Comedy, genre_Crime, genre_Drama, genre_Family, genre_Fantasy, genre_Horror, genre_Mystery, genre_Romance, genre_Sci-Fi, genre_Thriller, genre_Western\n",
      "Start: score=12171.39, constant\n",
      "Step: score=11453.20, add runtime\n",
      "Step: score=11314.30, add genre_Animation\n",
      "Step: score=11237.60, add genre_Biography\n",
      "Step: score=11155.35, add genre_Drama\n",
      "Step: score=11090.29, add genre_Crime\n",
      "Step: score=11061.63, add rating_R\n",
      "Step: score=11041.08, add rating_Not Rated\n",
      "Step: score=11019.37, add genre_Horror\n",
      "Step: score=11009.28, add genre_Comedy\n",
      "Step: score=10997.52, add genre_Adventure\n",
      "Step: score=10994.99, add rating_Unrated\n",
      "Step: score=10993.34, add genre_Family\n",
      "Step: score=10991.56, add rating_PG\n",
      "Step: score=10991.56, unchanged None\n",
      "['runtime', 'genre_Animation', 'genre_Biography', 'genre_Drama', 'genre_Crime', 'rating_R', 'rating_Not Rated', 'genre_Horror', 'genre_Comedy', 'genre_Adventure', 'rating_Unrated', 'genre_Family', 'rating_PG']\n",
      "\n",
      "Regression statistics\n",
      "\n",
      "                      Mean Error (ME) : -0.0005\n",
      "       Root Mean Squared Error (RMSE) : 0.8465\n",
      "            Mean Absolute Error (MAE) : 0.6522\n",
      "          Mean Percentage Error (MPE) : -2.2710\n",
      "Mean Absolute Percentage Error (MAPE) : 11.2224\n"
     ]
    }
   ],
   "source": [
    "# stepwise regression\n",
    "print('Table 6.8')\n",
    "\n",
    "best_model_stepwise, best_variables_stepwise = stepwise_selection(train_X.columns, train_model, score_model, verbose=True) \n",
    "print(best_variables_stepwise)\n",
    "regressionSummary(valid_y, best_model_stepwise.predict(valid_X[best_variables_stepwise]))"
   ]
  },
  {
   "cell_type": "markdown",
   "metadata": {},
   "source": [
    "# Use the prediction models"
   ]
  },
  {
   "cell_type": "code",
   "execution_count": 13,
   "metadata": {},
   "outputs": [
    {
     "name": "stdout",
     "output_type": "stream",
     "text": [
      "What score do we expect from a new movie with the following features?\n",
      "                   0\n",
      "runtime          180\n",
      "release quarter    4\n",
      "rating_R           1\n",
      "genre_Crime        1\n",
      "\n",
      "score per original model (all predictors): [7.96994956]\n",
      "score per backward elimination: [7.96057873]\n",
      "score per forward selection: [7.96057873]\n",
      "score per stepwise: [7.96057873]\n"
     ]
    }
   ],
   "source": [
    "# create a movie (in this data a movie can't have more than one rating nor more than one genre)\n",
    "newMovie = pd.DataFrame([{\n",
    "    'runtime': 3*60,\n",
    "    'release quarter': 4, # 1-4\n",
    "    'rating_G': 0,\n",
    "    'rating_NC-17': 0,\n",
    "    'rating_Not Rated': 0,\n",
    "    'rating_PG': 0,\n",
    "    'rating_PG-13': 0,\n",
    "    'rating_R': 1,\n",
    "    'rating_TV-MA': 0,\n",
    "    'rating_Unrated': 0,\n",
    "    'rating_X': 0,\n",
    "    'rating_TV-14': 0, \n",
    "    'rating_TV-PG': 0, \n",
    "    'genre_Adventure': 0,\n",
    "    'genre_Animation': 0,\n",
    "    'genre_Biography': 0,\n",
    "    'genre_Comedy': 0,\n",
    "    'genre_Crime': 1,\n",
    "    'genre_Drama': 0,\n",
    "    'genre_Family': 0,\n",
    "    'genre_Fantasy': 0,\n",
    "    'genre_Horror': 0,\n",
    "    'genre_Mystery': 0,\n",
    "    'genre_Romance': 0,\n",
    "    'genre_Sci-Fi': 0,\n",
    "    'genre_Thriller': 0,\n",
    "    'genre_Western': 0,\n",
    "    'genre_Music': 0,\n",
    "    'genre_Musical': 0,\n",
    "    'genre_Sport':0\n",
    "}])\n",
    "\n",
    "newMovie_thin = newMovie.loc[:, ~(newMovie == 0).any()]\n",
    "\n",
    "# predict it's score\n",
    "print(f'What score do we expect from a new movie with the following features?\\n{newMovie_thin.T}\\n')\n",
    "print(f'{outcome} per original model (all predictors): {lm.predict(newMovie[X.columns])}')\n",
    "print(f'{outcome} per backward elimination: {best_model_be.predict(newMovie[best_variables_be])}')\n",
    "print(f'{outcome} per forward selection: {best_model_fs.predict(newMovie[best_variables_fs])}')\n",
    "print(f'{outcome} per stepwise: {best_model_stepwise.predict(newMovie[best_variables_stepwise])}')"
   ]
  }
 ],
 "metadata": {
  "interpreter": {
   "hash": "993719309b7497d4ea980752fffbdfc5c91491f5d8efe44ee08128fdc39f9023"
  },
  "kernelspec": {
   "display_name": "Python 3.9.6 64-bit",
   "name": "python3"
  },
  "language_info": {
   "codemirror_mode": {
    "name": "ipython",
    "version": 3
   },
   "file_extension": ".py",
   "mimetype": "text/x-python",
   "name": "python",
   "nbconvert_exporter": "python",
   "pygments_lexer": "ipython3",
   "version": "3.9.6"
  },
  "orig_nbformat": 4
 },
 "nbformat": 4,
 "nbformat_minor": 2
}
