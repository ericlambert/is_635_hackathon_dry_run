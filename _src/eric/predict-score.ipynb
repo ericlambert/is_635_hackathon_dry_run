{
 "cells": [
  {
   "cell_type": "markdown",
   "metadata": {},
   "source": [
    "# Imports"
   ]
  },
  {
   "cell_type": "code",
   "execution_count": 101,
   "metadata": {},
   "outputs": [],
   "source": [
    "import pandas as pd\n",
    "from sklearn.model_selection import train_test_split\n",
    "from sklearn.linear_model import LinearRegression,Lasso, Ridge, LassoCV, BayesianRidge\n",
    "import statsmodels.formula.api as sm\n",
    "import matplotlib.pyplot as plt\n",
    "import seaborn as sns\n",
    "\n",
    "from dmba import regressionSummary, exhaustive_search\n",
    "from dmba import backward_elimination, forward_selection, stepwise_selection\n",
    "from dmba import adjusted_r2_score, AIC_score, BIC_score"
   ]
  },
  {
   "cell_type": "markdown",
   "metadata": {},
   "source": [
    "# Read Data"
   ]
  },
  {
   "cell_type": "code",
   "execution_count": 102,
   "metadata": {},
   "outputs": [
    {
     "name": "stdout",
     "output_type": "stream",
     "text": [
      "Index(['name', 'rating', 'genre', 'score', 'votes', 'director', 'writer',\n",
      "       'star', 'country', 'gross revenue', 'company', 'runtime',\n",
      "       'release month', 'release day', 'release year', 'release month num',\n",
      "       'release date', 'release quarter', 'release day of week'],\n",
      "      dtype='object')\n"
     ]
    }
   ],
   "source": [
    "# read data\n",
    "dataFileName = ('../../_data/_processed/' + 'processed_for_viz.csv')\n",
    "df = pd.read_csv(dataFileName)\n",
    "print(df.columns)"
   ]
  },
  {
   "cell_type": "markdown",
   "metadata": {},
   "source": [
    "# Basic Descriptive Statistics"
   ]
  },
  {
   "cell_type": "code",
   "execution_count": 103,
   "metadata": {},
   "outputs": [
    {
     "data": {
      "text/html": [
       "<div>\n",
       "<style scoped>\n",
       "    .dataframe tbody tr th:only-of-type {\n",
       "        vertical-align: middle;\n",
       "    }\n",
       "\n",
       "    .dataframe tbody tr th {\n",
       "        vertical-align: top;\n",
       "    }\n",
       "\n",
       "    .dataframe thead th {\n",
       "        text-align: right;\n",
       "    }\n",
       "</style>\n",
       "<table border=\"1\" class=\"dataframe\">\n",
       "  <thead>\n",
       "    <tr style=\"text-align: right;\">\n",
       "      <th></th>\n",
       "      <th>score</th>\n",
       "      <th>votes</th>\n",
       "      <th>gross revenue</th>\n",
       "      <th>runtime</th>\n",
       "      <th>release day</th>\n",
       "      <th>release year</th>\n",
       "      <th>release month num</th>\n",
       "      <th>release quarter</th>\n",
       "    </tr>\n",
       "  </thead>\n",
       "  <tbody>\n",
       "    <tr>\n",
       "      <th>count</th>\n",
       "      <td>7365.000000</td>\n",
       "      <td>7.365000e+03</td>\n",
       "      <td>7.365000e+03</td>\n",
       "      <td>7365.000000</td>\n",
       "      <td>7365.000000</td>\n",
       "      <td>7365.000000</td>\n",
       "      <td>7365.000000</td>\n",
       "      <td>7365.000000</td>\n",
       "    </tr>\n",
       "    <tr>\n",
       "      <th>mean</th>\n",
       "      <td>6.395967</td>\n",
       "      <td>9.129603e+04</td>\n",
       "      <td>7.949033e+07</td>\n",
       "      <td>107.463272</td>\n",
       "      <td>16.062729</td>\n",
       "      <td>2000.909165</td>\n",
       "      <td>6.591174</td>\n",
       "      <td>2.534012</td>\n",
       "    </tr>\n",
       "    <tr>\n",
       "      <th>std</th>\n",
       "      <td>0.963117</td>\n",
       "      <td>1.657359e+05</td>\n",
       "      <td>1.666292e+08</td>\n",
       "      <td>18.549380</td>\n",
       "      <td>8.550224</td>\n",
       "      <td>11.043358</td>\n",
       "      <td>3.434852</td>\n",
       "      <td>1.123712</td>\n",
       "    </tr>\n",
       "    <tr>\n",
       "      <th>min</th>\n",
       "      <td>1.900000</td>\n",
       "      <td>1.050000e+02</td>\n",
       "      <td>3.090000e+02</td>\n",
       "      <td>63.000000</td>\n",
       "      <td>1.000000</td>\n",
       "      <td>1980.000000</td>\n",
       "      <td>1.000000</td>\n",
       "      <td>1.000000</td>\n",
       "    </tr>\n",
       "    <tr>\n",
       "      <th>25%</th>\n",
       "      <td>5.800000</td>\n",
       "      <td>1.000000e+04</td>\n",
       "      <td>4.790801e+06</td>\n",
       "      <td>95.000000</td>\n",
       "      <td>9.000000</td>\n",
       "      <td>1992.000000</td>\n",
       "      <td>4.000000</td>\n",
       "      <td>2.000000</td>\n",
       "    </tr>\n",
       "    <tr>\n",
       "      <th>50%</th>\n",
       "      <td>6.500000</td>\n",
       "      <td>3.500000e+04</td>\n",
       "      <td>2.085152e+07</td>\n",
       "      <td>104.000000</td>\n",
       "      <td>16.000000</td>\n",
       "      <td>2001.000000</td>\n",
       "      <td>7.000000</td>\n",
       "      <td>3.000000</td>\n",
       "    </tr>\n",
       "    <tr>\n",
       "      <th>75%</th>\n",
       "      <td>7.100000</td>\n",
       "      <td>9.700000e+04</td>\n",
       "      <td>7.706825e+07</td>\n",
       "      <td>116.000000</td>\n",
       "      <td>23.000000</td>\n",
       "      <td>2010.000000</td>\n",
       "      <td>10.000000</td>\n",
       "      <td>4.000000</td>\n",
       "    </tr>\n",
       "    <tr>\n",
       "      <th>max</th>\n",
       "      <td>9.300000</td>\n",
       "      <td>2.400000e+06</td>\n",
       "      <td>2.847246e+09</td>\n",
       "      <td>366.000000</td>\n",
       "      <td>31.000000</td>\n",
       "      <td>2020.000000</td>\n",
       "      <td>12.000000</td>\n",
       "      <td>4.000000</td>\n",
       "    </tr>\n",
       "  </tbody>\n",
       "</table>\n",
       "</div>"
      ],
      "text/plain": [
       "             score         votes  gross revenue      runtime  release day  \\\n",
       "count  7365.000000  7.365000e+03   7.365000e+03  7365.000000  7365.000000   \n",
       "mean      6.395967  9.129603e+04   7.949033e+07   107.463272    16.062729   \n",
       "std       0.963117  1.657359e+05   1.666292e+08    18.549380     8.550224   \n",
       "min       1.900000  1.050000e+02   3.090000e+02    63.000000     1.000000   \n",
       "25%       5.800000  1.000000e+04   4.790801e+06    95.000000     9.000000   \n",
       "50%       6.500000  3.500000e+04   2.085152e+07   104.000000    16.000000   \n",
       "75%       7.100000  9.700000e+04   7.706825e+07   116.000000    23.000000   \n",
       "max       9.300000  2.400000e+06   2.847246e+09   366.000000    31.000000   \n",
       "\n",
       "       release year  release month num  release quarter  \n",
       "count   7365.000000        7365.000000      7365.000000  \n",
       "mean    2000.909165           6.591174         2.534012  \n",
       "std       11.043358           3.434852         1.123712  \n",
       "min     1980.000000           1.000000         1.000000  \n",
       "25%     1992.000000           4.000000         2.000000  \n",
       "50%     2001.000000           7.000000         3.000000  \n",
       "75%     2010.000000          10.000000         4.000000  \n",
       "max     2020.000000          12.000000         4.000000  "
      ]
     },
     "execution_count": 103,
     "metadata": {},
     "output_type": "execute_result"
    }
   ],
   "source": [
    "df.describe()"
   ]
  },
  {
   "cell_type": "markdown",
   "metadata": {},
   "source": [
    "# Train a Linear Regression Model"
   ]
  },
  {
   "cell_type": "code",
   "execution_count": 104,
   "metadata": {},
   "outputs": [],
   "source": [
    "# define model variables\n",
    "predictors = ['rating', 'genre', 'runtime', 'release quarter'] #'director', 'writter', 'star', 'company' are other options but they lead to\n",
    "outcome = 'score'\n",
    "normalize = False # normalize=true does not seem to impact the performance on this dataset\n",
    "testSize = 0.4"
   ]
  },
  {
   "cell_type": "code",
   "execution_count": 105,
   "metadata": {},
   "outputs": [],
   "source": [
    "# partition data\n",
    "X = pd.get_dummies(df[predictors], drop_first=True)\n",
    "y = df[outcome]\n",
    "train_X, valid_X, train_y, valid_y = train_test_split(X, y, test_size=testSize, random_state=1)"
   ]
  },
  {
   "cell_type": "code",
   "execution_count": 106,
   "metadata": {},
   "outputs": [
    {
     "name": "stdout",
     "output_type": "stream",
     "text": [
      "Table 6.3\n",
      "intercept  0.8955238637734295\n",
      "           Predictor  coefficient\n",
      "0            runtime     0.019602\n",
      "1    release quarter     0.011669\n",
      "2           rating_G     3.090304\n",
      "3       rating_NC-17     3.026509\n",
      "4   rating_Not Rated     3.388148\n",
      "5          rating_PG     2.895986\n",
      "6       rating_PG-13     3.019209\n",
      "7           rating_R     3.187357\n",
      "8       rating_TV-14     3.471827\n",
      "9       rating_TV-MA     3.477613\n",
      "10      rating_TV-PG     4.357112\n",
      "11    rating_Unrated     3.167775\n",
      "12          rating_X     3.474765\n",
      "13   genre_Adventure     0.215258\n",
      "14   genre_Animation     1.017177\n",
      "15   genre_Biography     0.702522\n",
      "16      genre_Comedy     0.177261\n",
      "17       genre_Crime     0.379334\n",
      "18       genre_Drama     0.420462\n",
      "19      genre_Family     0.774050\n",
      "20     genre_Fantasy    -0.122182\n",
      "21      genre_Horror    -0.149251\n",
      "22       genre_Music     0.800366\n",
      "23     genre_Musical     0.554706\n",
      "24     genre_Mystery     0.377199\n",
      "25     genre_Romance     0.415293\n",
      "26      genre_Sci-Fi     0.532884\n",
      "27       genre_Sport     0.107687\n",
      "28    genre_Thriller     0.126113\n",
      "29     genre_Western    -0.250341\n",
      "\n",
      "Regression statistics\n",
      "\n",
      "                      Mean Error (ME) : -0.0000\n",
      "       Root Mean Squared Error (RMSE) : 0.8298\n",
      "            Mean Absolute Error (MAE) : 0.6334\n",
      "          Mean Percentage Error (MPE) : -2.1490\n",
      "Mean Absolute Percentage Error (MAPE) : 10.8959\n"
     ]
    }
   ],
   "source": [
    "# fitting a regression model\n",
    "lm = LinearRegression(normalize=normalize) \n",
    "lm.fit(train_X, train_y)\n",
    "\n",
    "# print coefficients\n",
    "print('Table 6.3')\n",
    "print('intercept ', lm.intercept_)\n",
    "print(pd.DataFrame({'Predictor': X.columns, 'coefficient': lm.coef_}))\n",
    "\n",
    "# print performance measures (training data)\n",
    "regressionSummary(train_y, lm.predict(train_X))"
   ]
  },
  {
   "cell_type": "markdown",
   "metadata": {},
   "source": [
    "# Make Predictions on Validation Data"
   ]
  },
  {
   "cell_type": "code",
   "execution_count": 107,
   "metadata": {},
   "outputs": [
    {
     "name": "stdout",
     "output_type": "stream",
     "text": [
      "Table 6.4\n",
      "      Predicted  Actual  Residual\n",
      "3407   7.144504     8.5  1.355496\n",
      "3716   5.827076     4.8 -1.027076\n",
      "2708   6.073640     5.7 -0.373640\n",
      "3359   6.855899     6.0 -0.855899\n",
      "5538   6.563348     6.9  0.336652\n",
      "5144   6.796080     5.2 -1.596080\n",
      "7040   5.960461     6.1  0.139539\n",
      "1714   5.913325     4.2 -1.713325\n",
      "5131   5.713906     5.6 -0.113906\n",
      "3206   6.545624     6.9  0.354376\n",
      "4797   6.654794     7.5  0.845206\n",
      "1139   5.909588     6.8  0.890412\n",
      "6776   6.430905     6.9  0.469095\n",
      "1515   6.763102     7.7  0.936898\n",
      "4398   6.295986     6.6  0.304014\n",
      "3508   6.655685     5.8 -0.855685\n",
      "5028   6.141409     6.6  0.458591\n",
      "4086   6.294028     6.3  0.005972\n",
      "4768   6.230663     7.0  0.769337\n",
      "951    6.109343     6.7  0.590657\n"
     ]
    }
   ],
   "source": [
    "# Use predict() to make predictions on a new set\n",
    "\n",
    "lm_pred = lm.predict(valid_X)\n",
    "result = pd.DataFrame({'Predicted': lm_pred, 'Actual': valid_y, 'Residual': valid_y - lm_pred})\n",
    "\n",
    "print('Table 6.4')\n",
    "print(result.head(20))\n"
   ]
  },
  {
   "cell_type": "markdown",
   "metadata": {},
   "source": [
    "# Evaluate the Performance"
   ]
  },
  {
   "cell_type": "code",
   "execution_count": 108,
   "metadata": {},
   "outputs": [
    {
     "name": "stdout",
     "output_type": "stream",
     "text": [
      "\n",
      "Regression statistics\n",
      "\n",
      "                      Mean Error (ME) : 0.0302\n",
      "       Root Mean Squared Error (RMSE) : 0.8545\n",
      "            Mean Absolute Error (MAE) : 0.6614\n",
      "          Mean Percentage Error (MPE) : -1.8230\n",
      "Mean Absolute Percentage Error (MAPE) : 11.3640\n"
     ]
    }
   ],
   "source": [
    "# print performance measures\n",
    "regressionSummary(valid_y, lm_pred)"
   ]
  },
  {
   "cell_type": "code",
   "execution_count": 109,
   "metadata": {},
   "outputs": [
    {
     "name": "stdout",
     "output_type": "stream",
     "text": [
      "Figure 6.1\n",
      "0.7596741344195519\n"
     ]
    },
    {
     "data": {
      "image/png": "[encoded data removed]",
      "text/plain": [
       "<Figure size 432x288 with 1 Axes>"
      ]
     },
     "metadata": {
      "needs_background": "light"
     },
     "output_type": "display_data"
    }
   ],
   "source": [
    "# plotting histogram of validation errors\n",
    "bins = 25\n",
    "residual_bound = .95\n",
    "\n",
    "lm_pred = lm.predict(valid_X)\n",
    "all_residuals = valid_y - lm_pred\n",
    "\n",
    "# Determine the percentage of datapoints with a residual in [-.95, .95] = approx. 75%\n",
    "print('Figure 6.1')\n",
    "print(len(all_residuals[(all_residuals > -residual_bound) & (all_residuals < residual_bound)]) / len(all_residuals))\n",
    "\n",
    "pd.DataFrame({'Residuals': all_residuals}).hist(bins=bins)\n",
    "plt.show()"
   ]
  },
  {
   "cell_type": "markdown",
   "metadata": {},
   "source": [
    "# Variable Selection"
   ]
  },
  {
   "cell_type": "code",
   "execution_count": 110,
   "metadata": {},
   "outputs": [
    {
     "name": "stdout",
     "output_type": "stream",
     "text": [
      "Variables: runtime, release quarter, rating_G, rating_NC-17, rating_Not Rated, rating_PG, rating_PG-13, rating_R, rating_TV-14, rating_TV-MA, rating_TV-PG, rating_Unrated, rating_X, genre_Adventure, genre_Animation, genre_Biography, genre_Comedy, genre_Crime, genre_Drama, genre_Family, genre_Fantasy, genre_Horror, genre_Music, genre_Musical, genre_Mystery, genre_Romance, genre_Sci-Fi, genre_Sport, genre_Thriller, genre_Western\n",
      "Start: score=10955.33\n",
      "Step: score=10953.35, remove genre_Sport\n",
      "Step: score=10951.51, remove genre_Thriller\n",
      "Step: score=10949.79, remove genre_Western\n",
      "Step: score=10948.23, remove genre_Musical\n",
      "Step: score=10946.74, remove genre_Fantasy\n",
      "Step: score=10945.67, remove genre_Music\n",
      "Step: score=10944.78, remove release quarter\n",
      "Step: score=10944.16, remove genre_Mystery\n",
      "Step: score=10944.15, remove genre_Romance\n",
      "Step: score=10944.15, remove None\n",
      "Table 6.6\n",
      "['runtime', 'rating_G', 'rating_NC-17', 'rating_Not Rated', 'rating_PG', 'rating_PG-13', 'rating_R', 'rating_TV-14', 'rating_TV-MA', 'rating_TV-PG', 'rating_Unrated', 'rating_X', 'genre_Adventure', 'genre_Animation', 'genre_Biography', 'genre_Comedy', 'genre_Crime', 'genre_Drama', 'genre_Family', 'genre_Horror', 'genre_Sci-Fi']\n",
      "\n",
      "Regression statistics\n",
      "\n",
      "                      Mean Error (ME) : 0.0306\n",
      "       Root Mean Squared Error (RMSE) : 0.8547\n",
      "            Mean Absolute Error (MAE) : 0.6615\n",
      "          Mean Percentage Error (MPE) : -1.8181\n",
      "Mean Absolute Percentage Error (MAPE) : 11.3632\n"
     ]
    }
   ],
   "source": [
    "# backward elimination (stepwise)\n",
    "\n",
    "def train_model(variables):\n",
    "    model = LinearRegression(normalize=normalize) # normalize=true does not seem to impact the performance on this dataset\n",
    "    model.fit(train_X[variables], train_y)\n",
    "    return model\n",
    "\n",
    "def score_model(model, variables):\n",
    "    return AIC_score(train_y, model.predict(train_X[variables]), model)\n",
    "\n",
    "allVariables = train_X.columns\n",
    "best_model_be, best_variables_be = backward_elimination(allVariables, train_model, score_model, verbose=True)\n",
    "\n",
    "print('Table 6.6')\n",
    "print(best_variables_be)\n",
    "\n",
    "regressionSummary(valid_y, best_model_be.predict(valid_X[best_variables_be]))"
   ]
  },
  {
   "cell_type": "code",
   "execution_count": 111,
   "metadata": {},
   "outputs": [
    {
     "name": "stdout",
     "output_type": "stream",
     "text": [
      "Table 6.7\n",
      "Variables: runtime, release quarter, rating_G, rating_NC-17, rating_Not Rated, rating_PG, rating_PG-13, rating_R, rating_TV-14, rating_TV-MA, rating_TV-PG, rating_Unrated, rating_X, genre_Adventure, genre_Animation, genre_Biography, genre_Comedy, genre_Crime, genre_Drama, genre_Family, genre_Fantasy, genre_Horror, genre_Music, genre_Musical, genre_Mystery, genre_Romance, genre_Sci-Fi, genre_Sport, genre_Thriller, genre_Western\n",
      "Start: score=12171.09, constant\n",
      "Step: score=11388.80, add runtime\n",
      "Step: score=11264.97, add genre_Animation\n",
      "Step: score=11190.81, add genre_Biography\n",
      "Step: score=11101.11, add genre_Drama\n",
      "Step: score=11045.88, add genre_Crime\n",
      "Step: score=11018.71, add rating_R\n",
      "Step: score=10992.86, add rating_Not Rated\n",
      "Step: score=10972.96, add genre_Comedy\n",
      "Step: score=10965.73, add genre_Adventure\n",
      "Step: score=10956.98, add rating_PG\n",
      "Step: score=10953.30, add genre_Family\n",
      "Step: score=10950.39, add rating_TV-PG\n",
      "Step: score=10947.89, add genre_Horror\n",
      "Step: score=10947.86, add genre_Sci-Fi\n",
      "Step: score=10947.86, add None\n",
      "['runtime', 'genre_Animation', 'genre_Biography', 'genre_Drama', 'genre_Crime', 'rating_R', 'rating_Not Rated', 'genre_Comedy', 'genre_Adventure', 'rating_PG', 'genre_Family', 'rating_TV-PG', 'genre_Horror', 'genre_Sci-Fi']\n",
      "\n",
      "Regression statistics\n",
      "\n",
      "                      Mean Error (ME) : 0.0303\n",
      "       Root Mean Squared Error (RMSE) : 0.8552\n",
      "            Mean Absolute Error (MAE) : 0.6622\n",
      "          Mean Percentage Error (MPE) : -1.8239\n",
      "Mean Absolute Percentage Error (MAPE) : 11.3766\n"
     ]
    }
   ],
   "source": [
    "# forward selection\n",
    "print('Table 6.7')\n",
    "\n",
    "# the initial model is the constant model - this requires special handling in train_model and score_model\n",
    "def train_model(variables):\n",
    "    if len(variables) == 0:\n",
    "        return None\n",
    "    model = LinearRegression(normalize=normalize) # normalize=true does not seem to impact the performance on this dataset\n",
    "    model.fit(train_X[variables], train_y)\n",
    "    return model\n",
    "\n",
    "def score_model(model, variables):\n",
    "    if len(variables) == 0:\n",
    "        return AIC_score(train_y, [train_y.mean()] * len(train_y), model, df=1)\n",
    "    return AIC_score(train_y, model.predict(train_X[variables]), model)\n",
    "\n",
    "best_model_fs, best_variables_fs = forward_selection(train_X.columns, train_model, score_model, verbose=True)\n",
    "\n",
    "print(best_variables_fs)\n",
    "\n",
    "regressionSummary(valid_y, best_model_fs.predict(valid_X[best_variables_fs]))"
   ]
  },
  {
   "cell_type": "code",
   "execution_count": 112,
   "metadata": {},
   "outputs": [
    {
     "name": "stdout",
     "output_type": "stream",
     "text": [
      "Table 6.8\n",
      "Variables: runtime, release quarter, rating_G, rating_NC-17, rating_Not Rated, rating_PG, rating_PG-13, rating_R, rating_TV-14, rating_TV-MA, rating_TV-PG, rating_Unrated, rating_X, genre_Adventure, genre_Animation, genre_Biography, genre_Comedy, genre_Crime, genre_Drama, genre_Family, genre_Fantasy, genre_Horror, genre_Music, genre_Musical, genre_Mystery, genre_Romance, genre_Sci-Fi, genre_Sport, genre_Thriller, genre_Western\n",
      "Start: score=12171.09, constant\n",
      "Step: score=11388.80, add runtime\n",
      "Step: score=11264.97, add genre_Animation\n",
      "Step: score=11190.81, add genre_Biography\n",
      "Step: score=11101.11, add genre_Drama\n",
      "Step: score=11045.88, add genre_Crime\n",
      "Step: score=11018.71, add rating_R\n",
      "Step: score=10992.86, add rating_Not Rated\n",
      "Step: score=10972.96, add genre_Comedy\n",
      "Step: score=10965.73, add genre_Adventure\n",
      "Step: score=10956.98, add rating_PG\n",
      "Step: score=10953.30, add genre_Family\n",
      "Step: score=10950.39, add rating_TV-PG\n",
      "Step: score=10947.89, add genre_Horror\n",
      "Step: score=10947.86, add genre_Sci-Fi\n",
      "Step: score=10947.86, unchanged None\n",
      "['runtime', 'genre_Animation', 'genre_Biography', 'genre_Drama', 'genre_Crime', 'rating_R', 'rating_Not Rated', 'genre_Comedy', 'genre_Adventure', 'rating_PG', 'genre_Family', 'rating_TV-PG', 'genre_Horror', 'genre_Sci-Fi']\n",
      "\n",
      "Regression statistics\n",
      "\n",
      "                      Mean Error (ME) : 0.0303\n",
      "       Root Mean Squared Error (RMSE) : 0.8552\n",
      "            Mean Absolute Error (MAE) : 0.6622\n",
      "          Mean Percentage Error (MPE) : -1.8239\n",
      "Mean Absolute Percentage Error (MAPE) : 11.3766\n"
     ]
    }
   ],
   "source": [
    "# stepwise regression\n",
    "print('Table 6.8')\n",
    "\n",
    "best_model_stepwise, best_variables_stepwise = stepwise_selection(train_X.columns, train_model, score_model, verbose=True) \n",
    "print(best_variables_stepwise)\n",
    "regressionSummary(valid_y, best_model_stepwise.predict(valid_X[best_variables_stepwise]))"
   ]
  },
  {
   "cell_type": "markdown",
   "metadata": {},
   "source": [
    "# Use the prediction models"
   ]
  },
  {
   "cell_type": "code",
   "execution_count": 124,
   "metadata": {},
   "outputs": [
    {
     "name": "stdout",
     "output_type": "stream",
     "text": [
      "What score do we expect from a new movie with the following features?\n",
      "                   0\n",
      "runtime          120\n",
      "release quarter    4\n",
      "rating_R           1\n",
      "genre_Comedy       1\n",
      "\n",
      "score per original model (all predictors): [6.65903846]\n",
      "score per backward elimination: [6.64336285]\n",
      "score per forward selection: [6.64093371]\n",
      "score per stepwise: [6.64093371]\n"
     ]
    }
   ],
   "source": [
    "# create a movie (in this data a movie can't have more than one rating nor more than one genre)\n",
    "newMovie = pd.DataFrame([{\n",
    "    'runtime': 3*60,\n",
    "    'release quarter': 4, # 1-4\n",
    "    'rating_G': 0,\n",
    "    'rating_NC-17': 0,\n",
    "    'rating_Not Rated': 0,\n",
    "    'rating_PG': 0,\n",
    "    'rating_PG-13': 0,\n",
    "    'rating_R': 1,\n",
    "    'rating_TV-MA': 0,\n",
    "    'rating_Unrated': 0,\n",
    "    'rating_X': 0,\n",
    "    'rating_TV-14': 0, \n",
    "    'rating_TV-PG': 0, \n",
    "    'genre_Adventure': 0,\n",
    "    'genre_Animation': 0,\n",
    "    'genre_Biography': 0,\n",
    "    'genre_Comedy': 0,\n",
    "    'genre_Crime': 1,\n",
    "    'genre_Drama': 0,\n",
    "    'genre_Family': 0,\n",
    "    'genre_Fantasy': 0,\n",
    "    'genre_Horror': 0,\n",
    "    'genre_Mystery': 0,\n",
    "    'genre_Romance': 0,\n",
    "    'genre_Sci-Fi': 0,\n",
    "    'genre_Thriller': 0,\n",
    "    'genre_Western': 0,\n",
    "    'genre_Music': 0,\n",
    "    'genre_Musical': 0,\n",
    "    'genre_Sport':0\n",
    "}])\n",
    "\n",
    "newMovie_thin = newMovie.loc[:, ~(newMovie == 0).any()]\n",
    "\n",
    "# predict it's score\n",
    "print(f'What score do we expect from a new movie with the following features?\\n{newMovie_thin.T}\\n')\n",
    "print(f'{outcome} per original model (all predictors): {lm.predict(newMovie[X.columns])}')\n",
    "print(f'{outcome} per backward elimination: {best_model_be.predict(newMovie[best_variables_be])}')\n",
    "print(f'{outcome} per forward selection: {best_model_fs.predict(newMovie[best_variables_fs])}')\n",
    "print(f'{outcome} per stepwise: {best_model_stepwise.predict(newMovie[best_variables_stepwise])}')"
   ]
  }
 ],
 "metadata": {
  "interpreter": {
   "hash": "993719309b7497d4ea980752fffbdfc5c91491f5d8efe44ee08128fdc39f9023"
  },
  "kernelspec": {
   "display_name": "Python 3.9.6 64-bit",
   "name": "python3"
  },
  "language_info": {
   "codemirror_mode": {
    "name": "ipython",
    "version": 3
   },
   "file_extension": ".py",
   "mimetype": "text/x-python",
   "name": "python",
   "nbconvert_exporter": "python",
   "pygments_lexer": "ipython3",
   "version": "3.9.6"
  },
  "orig_nbformat": 4
 },
 "nbformat": 4,
 "nbformat_minor": 2
}
